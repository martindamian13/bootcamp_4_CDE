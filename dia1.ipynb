{
 "cells": [
  {
   "cell_type": "code",
   "execution_count": 1,
   "metadata": {},
   "outputs": [
    {
     "name": "stdout",
     "output_type": "stream",
     "text": [
      "hello world\n"
     ]
    }
   ],
   "source": [
    "print(\"hello world\")"
   ]
  },
  {
   "attachments": {},
   "cell_type": "markdown",
   "metadata": {},
   "source": [
    "Variables"
   ]
  },
  {
   "cell_type": "code",
   "execution_count": 16,
   "metadata": {},
   "outputs": [
    {
     "name": "stdout",
     "output_type": "stream",
     "text": [
      "naranja\n",
      "3\n"
     ]
    }
   ],
   "source": [
    "# Creamos una variable\n",
    "fruta = \"naranja\"\n",
    "# Mostramo el contenido de la variable\n",
    "print(fruta)\n",
    "# Creamos otra variable\n",
    "cantidad_de_frutas = 3\n",
    "# Mostramo el contenido de la variable\n",
    "print(cantidad_de_frutas)"
   ]
  },
  {
   "attachments": {},
   "cell_type": "markdown",
   "metadata": {},
   "source": [
    "# Tipos de datos"
   ]
  },
  {
   "cell_type": "code",
   "execution_count": 22,
   "metadata": {},
   "outputs": [
    {
     "name": "stdout",
     "output_type": "stream",
     "text": [
      "5\n",
      "naranja\n",
      "3.55\n",
      "False\n"
     ]
    }
   ],
   "source": [
    "cantidad_de_frutas = 5 # Numero entero / Integer / int \n",
    "fruta = \"naranja\" # Texto / String / str\n",
    "precio_usd = 3.55 # Numero decimal / Floating number / float\n",
    "esta_madura = False # Booleano / Boolean / bool\n",
    "\n",
    "# Mostramos los contenidos de la variable\n",
    "print(cantidad_de_frutas)\n",
    "print(fruta)\n",
    "print(precio_usd)\n",
    "print(esta_madura)\n"
   ]
  },
  {
   "cell_type": "code",
   "execution_count": null,
   "metadata": {},
   "outputs": [],
   "source": []
  },
  {
   "attachments": {},
   "cell_type": "markdown",
   "metadata": {},
   "source": [
    "## Challenge \n",
    "\n",
    "Crear dos variables que contengan una fruta cada una, luego en otras dos variables almacenar el precio de cada fruta, al final imprimir todas las variables."
   ]
  },
  {
   "cell_type": "code",
   "execution_count": 25,
   "metadata": {},
   "outputs": [
    {
     "name": "stdout",
     "output_type": "stream",
     "text": [
      "manzana\n",
      "pera\n",
      "2500\n",
      "3500\n"
     ]
    }
   ],
   "source": [
    "fruta_1 = \"manzana\"\n",
    "fruta_2 = \"pera\"\n",
    "precio_de_fruta_1 = 2500\n",
    "precio_de_fruta_2 = 3500\n",
    "print(fruta_1)\n",
    "print(fruta_2)\n",
    "print(precio_de_fruta_1)\n",
    "print(precio_de_fruta_2)"
   ]
  },
  {
   "attachments": {},
   "cell_type": "markdown",
   "metadata": {},
   "source": [
    "# Operaciones"
   ]
  },
  {
   "cell_type": "code",
   "execution_count": 31,
   "metadata": {},
   "outputs": [
    {
     "name": "stdout",
     "output_type": "stream",
     "text": [
      "6000\n",
      "4000\n",
      "7500\n",
      "3750.0\n",
      "9.0\n"
     ]
    }
   ],
   "source": [
    "# Suma\n",
    "precio_de_fruta_1 = 2500\n",
    "precio_de_fruta_2 = 3500\n",
    "precio_total = precio_de_fruta_1 + precio_de_fruta_2\n",
    "print(precio_total)\n",
    "\n",
    "# Resta \n",
    "precio_descuento = precio_total - 2000\n",
    "print(precio_descuento)\n",
    "\n",
    "# Multiplicacion\n",
    "cantidad_frutas = 3\n",
    "precio_total = precio_de_fruta_1 * cantidad_frutas\n",
    "print(precio_total)\n",
    "\n",
    "# Division\n",
    "cantidad_personas = 2\n",
    "vaquita = precio_total / cantidad_personas\n",
    "print(vaquita)\n",
    "\n",
    "# Obs. \n",
    "res = 2 * 2 + 12 / 2 - 1 \n",
    "print(res)\n"
   ]
  },
  {
   "attachments": {},
   "cell_type": "markdown",
   "metadata": {},
   "source": [
    "## Challenge 🤺 - 15m\n",
    "\n",
    "Suma: asignar dos números en dos variables diferentes `cantidad_de_manzanas` y `cantidad_de_naranjas`. Luego sumar ambas variables en `cantidad_de_frutas`. Imprimir la última variable.\n",
    "\n",
    "Resta: asignar un valor numérico a la variable `frutas_vendidas`. Luego, asignar la resta entre `cantidad_de_frutas` y `frutas_vendidas` a la variable `frutas_restantes`. Imprimir la última variable."
   ]
  },
  {
   "attachments": {},
   "cell_type": "markdown",
   "metadata": {},
   "source": [
    "# Solucion de Marcelo 👞"
   ]
  },
  {
   "cell_type": "code",
   "execution_count": 32,
   "metadata": {},
   "outputs": [
    {
     "name": "stdout",
     "output_type": "stream",
     "text": [
      "9\n",
      "1\n"
     ]
    }
   ],
   "source": [
    "#SUMA\n",
    "\n",
    "cantidad_de_manzanas = 5\n",
    "cantidad_de_naranajas = 4\n",
    "cantidad_de_frutas = cantidad_de_manzanas + cantidad_de_naranajas\n",
    "print(cantidad_de_frutas)\n",
    "\n",
    "#RESTA\n",
    "\n",
    "frutas_vendidas = 8\n",
    "frutas_restantes = cantidad_de_frutas - frutas_vendidas\n",
    "print(frutas_restantes)"
   ]
  },
  {
   "attachments": {},
   "cell_type": "markdown",
   "metadata": {},
   "source": [
    "# Solucion de Isaac 🙂"
   ]
  },
  {
   "cell_type": "code",
   "execution_count": 33,
   "metadata": {},
   "outputs": [
    {
     "name": "stdout",
     "output_type": "stream",
     "text": [
      "30\n",
      "23\n"
     ]
    }
   ],
   "source": [
    "#suma\n",
    "cantidad_de_manzanas=20\n",
    "cantidad_de_naranjas=10\n",
    "cantidad_de_frutas= cantidad_de_manzanas + cantidad_de_naranjas\n",
    "print(cantidad_de_frutas)\n",
    "#resta\n",
    "frutas_vendidas= 7\n",
    "frutas_restantes= cantidad_de_frutas - frutas_vendidas\n",
    "print(frutas_restantes)"
   ]
  },
  {
   "attachments": {},
   "cell_type": "markdown",
   "metadata": {},
   "source": [
    "# Jugando con texto"
   ]
  },
  {
   "cell_type": "code",
   "execution_count": 52,
   "metadata": {},
   "outputs": [
    {
     "name": "stdout",
     "output_type": "stream",
     "text": [
      "Damian Quintana\n",
      "Hola soy Damian Quintana\n",
      "Hola, mi nombre es Damian y mi apellido es Quintana\n"
     ]
    }
   ],
   "source": [
    "nombre = \"Damian\"\n",
    "apellido = 'Quintana'\n",
    "# texto = 'Mi libro favorito es \"Harry Potter\".'\n",
    "# print(texto)\n",
    "\n",
    "# Concatenacion \n",
    "print(nombre + \" \" + apellido)\n",
    "\n",
    "print(\"Hola soy \" + nombre + \" \" + apellido)\n",
    "\n",
    "print(f\"Hola, mi nombre es {nombre} y mi apellido es {apellido}\")\n"
   ]
  },
  {
   "attachments": {},
   "cell_type": "markdown",
   "metadata": {},
   "source": [
    "## Challenge 🤺 - 15m\n",
    "\n",
    "Asignar el nombre y el apellido de tu compañera/o a las variables nombre y apellido. Luego, imprimir una frase, utilizando las variables.\n",
    "EJEMPLO: \"Hola. Me llamo Claudia Melgarejo. Mucho gusto.\""
   ]
  },
  {
   "attachments": {},
   "cell_type": "markdown",
   "metadata": {},
   "source": [
    "# Solucion de Junior 😎"
   ]
  },
  {
   "cell_type": "code",
   "execution_count": 54,
   "metadata": {},
   "outputs": [
    {
     "name": "stdout",
     "output_type": "stream",
     "text": [
      "Hola. Mi compañero se llama Lucas Zacarias tiene 25 y es de CDE. mucho gusto\n"
     ]
    }
   ],
   "source": [
    "nombre= \"Lucas\"\n",
    "apellido= \"Zacarias\"\n",
    "edad= 25\n",
    "ciudad= \"CDE\"\n",
    "print(f\"Hola. Mi compañero se llama {nombre} {apellido} tiene {edad} y es de {ciudad}. mucho gusto\")"
   ]
  },
  {
   "attachments": {},
   "cell_type": "markdown",
   "metadata": {},
   "source": [
    "# Solucion de Ariel 🥰"
   ]
  },
  {
   "cell_type": "code",
   "execution_count": 55,
   "metadata": {},
   "outputs": [
    {
     "name": "stdout",
     "output_type": "stream",
     "text": [
      "Hola. Me llamo Junior Chamorro . Mucho gusto\n",
      "Hola, me llamo Ariel Aguero, pero mis amigos me dicen \"choco\"\n"
     ]
    }
   ],
   "source": [
    "nombre = \"Junior\"\n",
    "apellido = \"Chamorro\"\n",
    "print(f\"Hola. Me llamo {nombre} {apellido} . Mucho gusto\")\n",
    "\n",
    "nombre = \"Ariel\"\n",
    "apellido = \"Aguero\"\n",
    "apodo = '\"choco\"'\n",
    "print(f\"Hola, me llamo {nombre} {apellido}, pero mis amigos me dicen {apodo}\")"
   ]
  },
  {
   "attachments": {},
   "cell_type": "markdown",
   "metadata": {},
   "source": [
    "# INPUT"
   ]
  },
  {
   "cell_type": "code",
   "execution_count": 59,
   "metadata": {},
   "outputs": [
    {
     "name": "stdout",
     "output_type": "stream",
     "text": [
      "El nombre ingresado es: Martin y el apellido: Quintana\n"
     ]
    }
   ],
   "source": [
    "# Input\n",
    "nombre = input(\"ingrese un nombre\")\n",
    "apellido = input(\"ingrese un apellido\")\n",
    "\n",
    "print(f\"El nombre ingresado es: {nombre} y el apellido: {apellido}\")\n"
   ]
  },
  {
   "cell_type": "code",
   "execution_count": 73,
   "metadata": {},
   "outputs": [
    {
     "ename": "ValueError",
     "evalue": "invalid literal for int() with base 10: 'a'",
     "output_type": "error",
     "traceback": [
      "\u001b[0;31m---------------------------------------------------------------------------\u001b[0m",
      "\u001b[0;31mValueError\u001b[0m                                Traceback (most recent call last)",
      "Cell \u001b[0;32mIn [73], line 1\u001b[0m\n\u001b[0;32m----> 1\u001b[0m numero1 \u001b[39m=\u001b[39m \u001b[39mint\u001b[39;49m(\u001b[39minput\u001b[39;49m(\u001b[39m\"\u001b[39;49m\u001b[39mingrese un numero\u001b[39;49m\u001b[39m\"\u001b[39;49m))\n\u001b[1;32m      2\u001b[0m numero2 \u001b[39m=\u001b[39m \u001b[39mint\u001b[39m(\u001b[39minput\u001b[39m(\u001b[39m\"\u001b[39m\u001b[39mingrese otro numero\u001b[39m\u001b[39m\"\u001b[39m))\n\u001b[1;32m      4\u001b[0m suma \u001b[39m=\u001b[39m numero1 \u001b[39m+\u001b[39m numero2\n",
      "\u001b[0;31mValueError\u001b[0m: invalid literal for int() with base 10: 'a'"
     ]
    }
   ],
   "source": [
    "numero1 = int(input(\"ingrese un numero\"))\n",
    "numero2 = int(input(\"ingrese otro numero\"))\n",
    "\n",
    "suma = numero1 + numero2\n",
    "\n",
    "print(suma)\n",
    "\n",
    "# int() -> Convierte el texto en numero de todo lo que esta \n",
    "# dentro del parentesis"
   ]
  },
  {
   "attachments": {},
   "cell_type": "markdown",
   "metadata": {},
   "source": [
    "### Challenge 🤺 - 15m\n",
    "\n",
    "Solicitar al usuario ingresar dos números y almacenarlos en dos variables. Luego, imprimir la suma de los dos números."
   ]
  },
  {
   "attachments": {},
   "cell_type": "markdown",
   "metadata": {},
   "source": [
    "# Solucion de Angel 📖"
   ]
  },
  {
   "cell_type": "code",
   "execution_count": 74,
   "metadata": {},
   "outputs": [
    {
     "name": "stdout",
     "output_type": "stream",
     "text": [
      "La suma de los números es: 27\n"
     ]
    }
   ],
   "source": [
    "numero1 = int(input(\"Ingrese el primer número:\"))\n",
    "numero2 = int(input(\"Ingrese el segundo número:\"))\n",
    "\n",
    "suma = numero1 + numero2\n",
    "\n",
    "print(f\"La suma de los números es: {suma}\")"
   ]
  },
  {
   "attachments": {},
   "cell_type": "markdown",
   "metadata": {},
   "source": [
    "# Solucion de Jeremias 🔫"
   ]
  },
  {
   "cell_type": "code",
   "execution_count": 75,
   "metadata": {},
   "outputs": [
    {
     "name": "stdout",
     "output_type": "stream",
     "text": [
      "La suma de los numeros es 25\n"
     ]
    }
   ],
   "source": [
    "numero1 = int(input(\"Ingrese un numero\"))\n",
    "numero2 = int(input(\"Ingrese otro numero\"))\n",
    "\n",
    "suma = numero1 + numero2 \n",
    "\n",
    "print(f\"La suma de los numeros es {suma}\")\n"
   ]
  },
  {
   "cell_type": "code",
   "execution_count": 77,
   "metadata": {},
   "outputs": [
    {
     "name": "stdout",
     "output_type": "stream",
     "text": [
      "La suma de los numeros es 27\n"
     ]
    }
   ],
   "source": [
    "numero1 = int(input(\"Ingrese un numero\"))\n",
    "numero2 = int(input(\"Ingrese otro numero\"))\n",
    "suma = numero1 + numero2\n",
    "\n",
    "print(f\"La suma de los numeros es {numero1 + numero2}\")"
   ]
  },
  {
   "attachments": {},
   "cell_type": "markdown",
   "metadata": {},
   "source": [
    "# Funciones"
   ]
  },
  {
   "cell_type": "code",
   "execution_count": 83,
   "metadata": {},
   "outputs": [
    {
     "name": "stdout",
     "output_type": "stream",
     "text": [
      "Remojar la ropa\n",
      "Tiro al lavaropas\n",
      "Hago trabajar la maquina\n",
      "Enjuagar la ropa\n",
      "Pongo a extender la ropa\n",
      "siguiente dia\n",
      "Remojar la ropa\n",
      "Tiro al lavaropas\n",
      "Hago trabajar la maquina\n",
      "Enjuagar la ropa\n",
      "Pongo a extender la ropa\n"
     ]
    }
   ],
   "source": [
    "def lavar_ropa():\n",
    "    print(\"Remojar la ropa\")\n",
    "    print(\"Tiro al lavaropas\")\n",
    "    print(\"Hago trabajar la maquina\")\n",
    "    print(\"Enjuagar la ropa\")\n",
    "    print(\"Pongo a extender la ropa\")\n",
    "\n",
    "lavar_ropa()"
   ]
  },
  {
   "attachments": {},
   "cell_type": "markdown",
   "metadata": {},
   "source": [
    "## Challenge 🤺 - 15m\n",
    "\n",
    "Crear una función de un proceso que se les ocurra que tenga varios pasos.\n",
    "Ejecutar la función 3 veces."
   ]
  },
  {
   "attachments": {},
   "cell_type": "markdown",
   "metadata": {},
   "source": [
    "# Solucion de Allan 🏎️"
   ]
  },
  {
   "cell_type": "code",
   "execution_count": 84,
   "metadata": {},
   "outputs": [
    {
     "name": "stdout",
     "output_type": "stream",
     "text": [
      "Lunes\n",
      "1ro: Sacar el cafe y azucar de la alacena y la leche de la heladera.\n",
      "2do: Calentar la leche y agarrar la taza.\n",
      "3ro: Mezclar la leche caliente, el cafe y el azucar a gusto.\n",
      "4to: Revolver un ratito y disfrutar tu cafe.\n",
      " \n",
      "Martes\n",
      "1ro: Sacar el cafe y azucar de la alacena y la leche de la heladera.\n",
      "2do: Calentar la leche y agarrar la taza.\n",
      "3ro: Mezclar la leche caliente, el cafe y el azucar a gusto.\n",
      "4to: Revolver un ratito y disfrutar tu cafe.\n",
      " \n",
      "Miercoles\n",
      "1ro: Sacar el cafe y azucar de la alacena y la leche de la heladera.\n",
      "2do: Calentar la leche y agarrar la taza.\n",
      "3ro: Mezclar la leche caliente, el cafe y el azucar a gusto.\n",
      "4to: Revolver un ratito y disfrutar tu cafe.\n",
      " \n"
     ]
    }
   ],
   "source": [
    "def rutina_de_desayuno():\n",
    "    print(\"1ro: Sacar el cafe y azucar de la alacena y la leche de la heladera.\")\n",
    "    print(\"2do: Calentar la leche y agarrar la taza.\")\n",
    "    print(\"3ro: Mezclar la leche caliente, el cafe y el azucar a gusto.\")\n",
    "    print(\"4to: Revolver un ratito y disfrutar tu cafe.\")\n",
    "\n",
    "print(\"Lunes\")\n",
    "rutina_de_desayuno()\n",
    "print(\" \")\n",
    "print(\"Martes\")\n",
    "rutina_de_desayuno()\n",
    "print(\" \")\n",
    "print(\"Miercoles\")\n",
    "rutina_de_desayuno()\n",
    "print(\" \")"
   ]
  },
  {
   "attachments": {},
   "cell_type": "markdown",
   "metadata": {},
   "source": [
    "# Solucion de Ale 🍕"
   ]
  },
  {
   "cell_type": "code",
   "execution_count": 85,
   "metadata": {},
   "outputs": [
    {
     "name": "stdout",
     "output_type": "stream",
     "text": [
      "revisar las piezas necesarias\n",
      "desarmar el gabinete\n",
      "montar la placa madre y la fuente, etc\n",
      "conectar todo y prender\n",
      "instalar sistema operativo\n",
      "revisar las piezas necesarias\n",
      "desarmar el gabinete\n",
      "montar la placa madre y la fuente, etc\n",
      "conectar todo y prender\n",
      "instalar sistema operativo\n",
      "revisar las piezas necesarias\n",
      "desarmar el gabinete\n",
      "montar la placa madre y la fuente, etc\n",
      "conectar todo y prender\n",
      "instalar sistema operativo\n"
     ]
    }
   ],
   "source": [
    "def montar_pc():\n",
    "    print (\"revisar las piezas necesarias\")\n",
    "    print (\"desarmar el gabinete\")\n",
    "    print (\"montar la placa madre y la fuente, etc\")\n",
    "    print (\"conectar todo y prender\")\n",
    "    print (\"instalar sistema operativo\")\n",
    "montar_pc()\n",
    "montar_pc()\n",
    "montar_pc()"
   ]
  },
  {
   "attachments": {},
   "cell_type": "markdown",
   "metadata": {},
   "source": [
    "# Parametros y Argumentos"
   ]
  },
  {
   "cell_type": "code",
   "execution_count": 94,
   "metadata": {},
   "outputs": [
    {
     "name": "stdout",
     "output_type": "stream",
     "text": [
      "Lavarropas de la marca Guirpul\n",
      "La capacidad es de 10 kg.\n"
     ]
    }
   ],
   "source": [
    "def comprar_lavarropas(marca, capacidad):\n",
    "    print(f\"Lavarropas de la marca {marca}\")\n",
    "    print(f\"La capacidad es de {capacidad} kg.\")\n",
    "\n",
    "marca = \"Guirpul\"\n",
    "comprar_lavarropas(marca, 10)\n"
   ]
  },
  {
   "cell_type": "code",
   "execution_count": 92,
   "metadata": {},
   "outputs": [
    {
     "name": "stdout",
     "output_type": "stream",
     "text": [
      "4\n",
      "6\n",
      "10\n"
     ]
    }
   ],
   "source": [
    "def sumar(numero1, numero2):\n",
    "    resultado = numero1 + numero2\n",
    "    print(resultado)\n",
    "\n",
    "sumar(4,6)\n"
   ]
  },
  {
   "attachments": {},
   "cell_type": "markdown",
   "metadata": {},
   "source": [
    "## Challenge 🤺 - 15m\n",
    "\n",
    "Crear una funcion que reciba 2 parametros y realice una operacion entre ambos parametros.\n",
    "Ejemplo: \n",
    "Una operacion aritmetica o una funcion para comprar algo con dos caracteristicas diferentes."
   ]
  },
  {
   "attachments": {},
   "cell_type": "markdown",
   "metadata": {},
   "source": [
    "# Solucion de Edu 👺"
   ]
  },
  {
   "cell_type": "code",
   "execution_count": 95,
   "metadata": {},
   "outputs": [
    {
     "name": "stdout",
     "output_type": "stream",
     "text": [
      "30\n",
      "11\n",
      "-1\n",
      "56\n",
      "15\n",
      "-1\n"
     ]
    }
   ],
   "source": [
    "def calculadora(num1,num2):\n",
    "    multi= num1 * num2\n",
    "    print(multi)\n",
    "    sum= num1 + num2\n",
    "    print(sum)\n",
    "    resta= num1 - num2\n",
    "    print (resta)\n",
    "\n",
    "calculadora(5,6)\n",
    "calculadora(7,8)"
   ]
  },
  {
   "attachments": {},
   "cell_type": "markdown",
   "metadata": {},
   "source": [
    "# Solucion David 👽"
   ]
  },
  {
   "cell_type": "code",
   "execution_count": 96,
   "metadata": {},
   "outputs": [
    {
     "name": "stdout",
     "output_type": "stream",
     "text": [
      "La marca de la TV Smart ES Samsung\n",
      "El precio de la TV Smart ES 500 $\n",
      "El tamaño en pulgadas de la TV Smart ES 50 in.\n"
     ]
    }
   ],
   "source": [
    "def teles (marca, precio, pulgada):\n",
    "    print(f\"La marca de la TV Smart ES {marca}\")\n",
    "    print(f\"El precio de la TV Smart ES {precio} $\")\n",
    "    print(f\"El tamaño en pulgadas de la TV Smart ES {pulgada} in.\")\n",
    "\n",
    "marca= \"Samsung\"\n",
    "precio= 500\n",
    "pulgada = 50\n",
    "\n",
    "\n",
    "teles(marca, precio, pulgada)"
   ]
  },
  {
   "cell_type": "code",
   "execution_count": 97,
   "metadata": {},
   "outputs": [
    {
     "name": "stdout",
     "output_type": "stream",
     "text": [
      "La marca de la TV Smart ES Samsung\n",
      "El precio de la TV Smart ES 500 $\n",
      "El tamaño en pulgadas de la TV Smart ES 50 in.\n"
     ]
    }
   ],
   "source": [
    "def teles (marca, precio, pulgada):\n",
    "    print(f\"La marca de la TV Smart ES {marca}\")\n",
    "    print(f\"El precio de la TV Smart ES {precio} $\")\n",
    "    print(f\"El tamaño en pulgadas de la TV Smart ES {pulgada} in.\")\n",
    "\n",
    "a= \"Samsung\"\n",
    "b= 500\n",
    "c = 50\n",
    "\n",
    "\n",
    "teles(a,b,c)"
   ]
  },
  {
   "attachments": {},
   "cell_type": "markdown",
   "metadata": {},
   "source": [
    "Scope (Alcance) las variables"
   ]
  },
  {
   "cell_type": "code",
   "execution_count": 103,
   "metadata": {},
   "outputs": [
    {
     "name": "stdout",
     "output_type": "stream",
     "text": [
      "14\n",
      "guirpul\n",
      "10\n"
     ]
    }
   ],
   "source": [
    "kg = 10 \n",
    "\n",
    "def capacidad_lavarropas():\n",
    "    kg = 14\n",
    "    brand = \"guirpul\"\n",
    "    print(kg)\n",
    "    print(brand)\n",
    "\n",
    "capacidad_lavarropas()\n",
    "print(kg)"
   ]
  }
 ],
 "metadata": {
  "kernelspec": {
   "display_name": "Python 3",
   "language": "python",
   "name": "python3"
  },
  "language_info": {
   "codemirror_mode": {
    "name": "ipython",
    "version": 3
   },
   "file_extension": ".py",
   "mimetype": "text/x-python",
   "name": "python",
   "nbconvert_exporter": "python",
   "pygments_lexer": "ipython3",
   "version": "3.10.6"
  },
  "orig_nbformat": 4,
  "vscode": {
   "interpreter": {
    "hash": "b0fa6594d8f4cbf19f97940f81e996739fb7646882a419484c72d19e05852a7e"
   }
  }
 },
 "nbformat": 4,
 "nbformat_minor": 2
}

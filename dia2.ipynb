{
 "cells": [
  {
   "attachments": {},
   "cell_type": "markdown",
   "metadata": {},
   "source": [
    "# Dia 2"
   ]
  },
  {
   "cell_type": "code",
   "execution_count": 1,
   "metadata": {},
   "outputs": [
    {
     "name": "stdout",
     "output_type": "stream",
     "text": [
      "Hello\n",
      "World\n",
      "2\n",
      "4\n"
     ]
    }
   ],
   "source": [
    "# Repaso de parametros y argumentos de funciones\n",
    "\n",
    "# Creamos una funcion con 2 parametros\n",
    "def nombre_de_la_funcion(parametro1, parametro2):\n",
    "    print(parametro1)\n",
    "    print(parametro2)\n",
    "\n",
    "# Llamamos a las funciones y pasamos los argumentos\n",
    "nombre_de_la_funcion(\"Hello\", \"World\") \n",
    "nombre_de_la_funcion(2,4)   "
   ]
  },
  {
   "attachments": {},
   "cell_type": "markdown",
   "metadata": {},
   "source": [
    "# Condicionales IF"
   ]
  },
  {
   "cell_type": "code",
   "execution_count": 16,
   "metadata": {},
   "outputs": [
    {
     "name": "stdout",
     "output_type": "stream",
     "text": [
      "Adelante, diviertase.\n",
      "y cuidese\n"
     ]
    }
   ],
   "source": [
    "edad = 18\n",
    "\n",
    "if edad >= 18:\n",
    "    print(\"Adelante, diviertase.\")\n",
    "    print(\"y cuidese\")\n",
    "else:\n",
    "    print(\"Ekañy agui\")\n"
   ]
  },
  {
   "cell_type": "code",
   "execution_count": 14,
   "metadata": {},
   "outputs": [
    {
     "name": "stdout",
     "output_type": "stream",
     "text": [
      "Es menor, no puede entrar\n"
     ]
    }
   ],
   "source": [
    "edad = 17\n",
    "tiene_cedula = True\n",
    "\n",
    "if edad < 18:\n",
    "    print(\"Es menor, no puede entrar\")\n",
    "elif tiene_cedula:\n",
    "    print(\"Puede pasar\")\n",
    "else:\n",
    "    print(\"Anda busca tu cedula\")"
   ]
  },
  {
   "attachments": {},
   "cell_type": "markdown",
   "metadata": {},
   "source": [
    "# Operadores logicos"
   ]
  },
  {
   "cell_type": "code",
   "execution_count": 15,
   "metadata": {},
   "outputs": [
    {
     "name": "stdout",
     "output_type": "stream",
     "text": [
      "True\n"
     ]
    }
   ],
   "source": [
    "a = 5\n",
    "b = 4\n",
    "\n",
    "condicion = a > b\n",
    "print(condicion)\n",
    "\n",
    "# Mayor que a > b (a mayor que b)\n",
    "# Menor que a < b (a menor que b)\n",
    "# Igualdad a == b (a igual que b)\n",
    "# Mayor o igual a >= b (a mayor o igual que b)\n",
    "# Menor o igual a <= b (a menor o igual que b)\n",
    "# Distinto a != b (a diferente que b)\n",
    "\n",
    "# and / Y  \n",
    "# condicion1(V) and condicion2 (V) -> V\n",
    "# condicion1(F) and condicion2 (V) -> F\n",
    "\n",
    "# or / o  \n",
    "# condicion1(V) or condicion2 (V) -> V\n",
    "# condicion1(F) or condicion2 (V) -> V\n",
    "# condicion1(F) or condicion2 (F) -> F\n",
    "\n",
    "# not / negacion\n",
    "# condicion(V) \n",
    "# not condicion -> F\n"
   ]
  },
  {
   "cell_type": "code",
   "execution_count": 24,
   "metadata": {},
   "outputs": [
    {
     "name": "stdout",
     "output_type": "stream",
     "text": [
      "Deberia trabajar\n"
     ]
    }
   ],
   "source": [
    "edad_laboral = 24\n",
    "trabaja = False\n",
    "\n",
    "if edad_laboral < 18:\n",
    "    print(\"No puede trabajar\")\n",
    "elif edad_laboral < 65 and trabaja:\n",
    "    print(\"Esta trabajando\")\n",
    "elif edad_laboral < 65 and not trabaja:\n",
    "    print(\"Deberia trabajar\")\n",
    "else:\n",
    "    print(\"Jubilado\")"
   ]
  },
  {
   "attachments": {},
   "cell_type": "markdown",
   "metadata": {},
   "source": [
    "### Challenge 🤺 - 20m\n",
    "\n",
    "Escribir un programa en el que se pregunte al usuario por una temperatura (en grados Celsius), imprima la temperatura escrita, y luego clasificar la temperatura ingresada en los siguientes niveles:\n",
    "\n",
    "Entre -10 y 18 grados, que imprima \"Fresquete\".\n",
    "Entre 19 y 30 grados, que imprima \"Calor'i\".\n",
    "Entre 31 y 45 grados, que imprima \"Hakuuuuuu\".\n",
    "Para todo lo demás, imprimir \"Ñamano mba'e!\"."
   ]
  },
  {
   "attachments": {},
   "cell_type": "markdown",
   "metadata": {},
   "source": [
    "# Solucion de Ariel 🍫"
   ]
  },
  {
   "cell_type": "code",
   "execution_count": 29,
   "metadata": {},
   "outputs": [
    {
     "name": "stdout",
     "output_type": "stream",
     "text": [
      "La temperatura actual es de: 50.\n",
      "Ñamano mba'e!\n"
     ]
    }
   ],
   "source": [
    "grados_celsius = int(input(\"ingresar la temperatura actual\"))\n",
    "print(f\"La temperatura actual es de: {grados_celsius}.\")\n",
    "if -10 <= grados_celsius <= 18:\n",
    "    print(\"fresquete\")\n",
    "elif 19 <= grados_celsius <= 30:\n",
    "    print(\"calor'i\")\n",
    "elif 31 <= grados_celsius <= 45:\n",
    "    print(\"hakuuuuuuu\")\n",
    "else:\n",
    "    print(\"Ñamano mba'e!\")"
   ]
  },
  {
   "attachments": {},
   "cell_type": "markdown",
   "metadata": {},
   "source": [
    "# Solucion de Isaac 🥶"
   ]
  },
  {
   "cell_type": "code",
   "execution_count": 36,
   "metadata": {},
   "outputs": [
    {
     "name": "stdout",
     "output_type": "stream",
     "text": [
      "fresquete\n"
     ]
    }
   ],
   "source": [
    "grado_del_ambientegrado= int(input(\"que ta el clima por ahi?\"))\n",
    "if grado_del_ambientegrado > -10  and grado_del_ambientegrado  <= 18:\n",
    "  print(\"fresquete\")\n",
    "elif grado_del_ambientegrado > 18 and grado_del_ambientegrado < 30:\n",
    "    print(\"calor'i\")\n",
    "elif grado_del_ambientegrado > 30 and grado_del_ambientegrado < 45:\n",
    "    print(\"hakurooo\")\n",
    "else:\n",
    "    print(\"vamos a morir todos\")"
   ]
  },
  {
   "attachments": {},
   "cell_type": "markdown",
   "metadata": {},
   "source": [
    "# Solucion de Julio 😇"
   ]
  },
  {
   "cell_type": "code",
   "execution_count": 41,
   "metadata": {},
   "outputs": [
    {
     "name": "stdout",
     "output_type": "stream",
     "text": [
      "La temperatura actual es:-15\n",
      "ñamano mba e\n"
     ]
    }
   ],
   "source": [
    "def clima(temperatura):\n",
    "    if temperatura >= -10 and temperatura <= 18:\n",
    "        print(\"Fresquete\") \n",
    "    elif temperatura >= 19 and temperatura <= 31:\n",
    "        print(\"Calor i\") \n",
    "    elif temperatura >= 31 and temperatura <= 45:\n",
    "        print(\"Hakuuuuu\")\n",
    "    else:\n",
    "        print(\"ñamano mba e\")\n",
    "\n",
    "temperatura = int(input(\"Cuanto es la temperatura actual de su ambiente\"))\n",
    "print(f\"La temperatura actual es:{temperatura}\")\n",
    "\n",
    "clima(temperatura)"
   ]
  },
  {
   "attachments": {},
   "cell_type": "markdown",
   "metadata": {},
   "source": [
    "# Bucles condicionales\n",
    "\n",
    "Utilizamos la herramienta \"while\""
   ]
  },
  {
   "cell_type": "code",
   "execution_count": 3,
   "metadata": {},
   "outputs": [
    {
     "name": "stdout",
     "output_type": "stream",
     "text": [
      "5\n",
      "5\n",
      "4\n",
      "saliste del bucle\n"
     ]
    }
   ],
   "source": [
    "numero = 5\n",
    "while numero != 5:\n",
    "    numero = int(input(\"ingrese un numero\"))\n",
    "    print(numero)\n",
    "\n",
    "print(\"saliste del bucle\")"
   ]
  },
  {
   "cell_type": "code",
   "execution_count": 5,
   "metadata": {},
   "outputs": [
    {
     "name": "stdout",
     "output_type": "stream",
     "text": [
      "Ingresa otro numero\n",
      "Ingresa otro numero\n",
      "Acertaste\n"
     ]
    }
   ],
   "source": [
    "numero = 1\n",
    "\n",
    "while True:\n",
    "    numero_ingresado = int(input(\"ingrese un numero \"))\n",
    "    if numero_ingresado == numero:\n",
    "        print(\"Acertaste\")\n",
    "        break\n",
    "    else:\n",
    "        print(\"Ingresa otro numero\")"
   ]
  },
  {
   "attachments": {},
   "cell_type": "markdown",
   "metadata": {},
   "source": [
    "### Challenge 🤺 - 15m\n",
    "Escribir un programa que almacene una contraseña en una variable, y pregunte al usuario por la contraseña hasta que introduzca la contraseña correcta.\n",
    "\n",
    "Cuando el usuario ingrese la contrasena correcta, imprimir un mensaje secreto."
   ]
  },
  {
   "attachments": {},
   "cell_type": "markdown",
   "metadata": {},
   "source": [
    "# Solucion de Angel 😅"
   ]
  },
  {
   "cell_type": "code",
   "execution_count": 6,
   "metadata": {},
   "outputs": [
    {
     "name": "stdout",
     "output_type": "stream",
     "text": [
      "Ingrese otra contraseña\n",
      "Ingrese otra contraseña\n",
      "Ingrese otra contraseña\n",
      "Acertaste, su mensaje es: Podés seguir aprendiendo!\n"
     ]
    }
   ],
   "source": [
    "password = \"abc123\"\n",
    "\n",
    "while True:\n",
    "    password_ingresada = input(\"Ingrese una contraseña\")\n",
    "    if password_ingresada == password:\n",
    "        print(\"Acertaste, su mensaje es: Podés seguir aprendiendo!\")\n",
    "        break\n",
    "    else:\n",
    "        print(\"Ingrese otra contraseña\")"
   ]
  },
  {
   "attachments": {},
   "cell_type": "markdown",
   "metadata": {},
   "source": [
    "# Solucion de Gio ⚡️"
   ]
  },
  {
   "cell_type": "code",
   "execution_count": 7,
   "metadata": {},
   "outputs": [
    {
     "name": "stdout",
     "output_type": "stream",
     "text": [
      "##############\n",
      "# Bienvenido #\n",
      "##############\n",
      "\n",
      "hola\n",
      "\n",
      "Error, vuelva a intentarlo !! \n",
      "\n",
      "que\n",
      "\n",
      "Error, vuelva a intentarlo !! \n",
      "\n",
      "tal\n",
      "\n",
      "Error, vuelva a intentarlo !! \n",
      "\n",
      "159159q\n",
      "#############\n",
      "# Enhorabuena #\n",
      "#############\n",
      "\n",
      "FIN.\n"
     ]
    }
   ],
   "source": [
    "print(\"##############\")\n",
    "print(\"# Bienvenido #\")\n",
    "print(\"##############\")\n",
    "password = \"159159q\"\n",
    "\n",
    "while True:\n",
    "    passwordok = input(\"Ingrese el password correspondiente\")\n",
    "    print(f\"\\n{passwordok}\")\n",
    "\n",
    "    if password == passwordok:\n",
    "        print(\"#############\")\n",
    "        print(\"# Enhorabuena #\")\n",
    "        print(\"#############\")\n",
    "        print(\"\\nFIN.\")\n",
    "        break\n",
    "    else:\n",
    "\n",
    "        print(\"\\nError, vuelva a intentarlo !! \")"
   ]
  },
  {
   "attachments": {},
   "cell_type": "markdown",
   "metadata": {},
   "source": [
    "# Solucion de Allan 😎"
   ]
  },
  {
   "cell_type": "code",
   "execution_count": 8,
   "metadata": {},
   "outputs": [
    {
     "name": "stdout",
     "output_type": "stream",
     "text": [
      "No acertaste la contraseña, vuelve a intentarlo: \n",
      "No acertaste la contraseña, vuelve a intentarlo: \n",
      "No acertaste la contraseña, vuelve a intentarlo: \n",
      "Felicidades, no ganaste absolutamente nada :)\n"
     ]
    }
   ],
   "source": [
    "contraseña = 3322\n",
    "intento = int(input(\"Ingrese una contraseña: \"))\n",
    "\n",
    "while contraseña != intento:\n",
    "    print(\"No acertaste la contraseña, vuelve a intentarlo: \")\n",
    "    intento = int(input(\"Ingrese otra contraseña: \"))\n",
    "\n",
    "print(\"Felicidades, no ganaste absolutamente nada :)\")"
   ]
  },
  {
   "cell_type": "code",
   "execution_count": 12,
   "metadata": {},
   "outputs": [
    {
     "ename": "TypeError",
     "evalue": "can only concatenate str (not \"int\") to str",
     "output_type": "error",
     "traceback": [
      "\u001b[0;31m---------------------------------------------------------------------------\u001b[0m",
      "\u001b[0;31mTypeError\u001b[0m                                 Traceback (most recent call last)",
      "Cell \u001b[0;32mIn [12], line 3\u001b[0m\n\u001b[1;32m      1\u001b[0m a \u001b[39m=\u001b[39m \u001b[39m\"\u001b[39m\u001b[39m2a\u001b[39m\u001b[39m\"\u001b[39m\n\u001b[1;32m      2\u001b[0m b \u001b[39m=\u001b[39m \u001b[39m15\u001b[39m\n\u001b[0;32m----> 3\u001b[0m \u001b[39mprint\u001b[39m(a\u001b[39m+\u001b[39;49mb)\n",
      "\u001b[0;31mTypeError\u001b[0m: can only concatenate str (not \"int\") to str"
     ]
    }
   ],
   "source": [
    "# Comparacion entre tipos de datos distintos\n",
    "a = \"2a\"\n",
    "b = 15\n",
    "print(a+b)"
   ]
  },
  {
   "cell_type": "code",
   "execution_count": 14,
   "metadata": {},
   "outputs": [
    {
     "name": "stdout",
     "output_type": "stream",
     "text": [
      "erraste\n"
     ]
    }
   ],
   "source": [
    "numero = 1\n",
    "\n",
    "while numero != 3:\n",
    "    print(\"erraste\")\n",
    "    numero = 3"
   ]
  },
  {
   "attachments": {},
   "cell_type": "markdown",
   "metadata": {},
   "source": [
    "# Listas "
   ]
  },
  {
   "cell_type": "code",
   "execution_count": 15,
   "metadata": {},
   "outputs": [],
   "source": [
    "# Lista de Textos (String)\n",
    "lista_de_frutas = [\"Manzana\", \"Pera\", \"Banana\"]\n",
    "\n",
    "# Lista de Numeros enteros (integer)\n",
    "lista_de_enteros = [24, 2, 50]\n",
    "\n",
    "# Lista de Float\n",
    "lista_float = [2.34, 4.54]\n",
    "\n",
    "# Lista de Booleanos\n",
    "lista_booleanos = [True, False, True, True]\n",
    "\n",
    "lista = [\"Texto\", 4, True , 5.12]"
   ]
  },
  {
   "cell_type": "code",
   "execution_count": 23,
   "metadata": {},
   "outputs": [
    {
     "name": "stdout",
     "output_type": "stream",
     "text": [
      "5.12\n",
      "4\n"
     ]
    }
   ],
   "source": [
    "lista = [\"Texto\", 4, True , 5.12]\n",
    "\n",
    "# Acceder a los datos por la posicion\n",
    "print(lista[3])\n",
    "\n",
    "# Contar elementos de una lista\n",
    "print(len(lista))"
   ]
  },
  {
   "cell_type": "code",
   "execution_count": 38,
   "metadata": {},
   "outputs": [
    {
     "name": "stdout",
     "output_type": "stream",
     "text": [
      "['Manzana', 'Pera', 'Banana']\n",
      "['Manzana', 'Pera', 'Banana', 'Mango']\n",
      "['Manzana', 'Pera', 'Uva', 'Mango']\n",
      "['Manzana', 'Uva', 'Mango']\n",
      "['Manzana', 'Mango']\n"
     ]
    }
   ],
   "source": [
    "lista_de_frutas = [\"Manzana\", \"Pera\", \"Banana\"]\n",
    "print(lista_de_frutas)\n",
    "\n",
    "# Agregar elementos a la lista\n",
    "lista_de_frutas.append(\"Mango\")\n",
    "print(lista_de_frutas)\n",
    "\n",
    "# Modificar elementos de una lista\n",
    "lista_de_frutas[2] = \"Uva\"\n",
    "print(lista_de_frutas)\n",
    "\n",
    "# Eliminar elementos de una lista\n",
    "# Por valor especifico\n",
    "lista_de_frutas.remove(\"Pera\")\n",
    "print(lista_de_frutas)\n",
    "\n",
    "#Por posicion\n",
    "lista_de_frutas.pop(1)\n",
    "print(lista_de_frutas)\n"
   ]
  },
  {
   "attachments": {},
   "cell_type": "markdown",
   "metadata": {},
   "source": [
    "### Challenge 🤺 - 20m\n",
    "\n",
    "Crear una lista de 5 elementos. Luego, seguir los siguientes pasos.\n",
    "\n",
    "- Agregar un elemento al final de la lista.\n",
    "\n",
    "- Modificar el segundo elemento.\n",
    "\n",
    "- Eliminar el tercer elemento.\n",
    "\n",
    "Imprimir la lista en cada paso y al final."
   ]
  },
  {
   "cell_type": "code",
   "execution_count": null,
   "metadata": {},
   "outputs": [],
   "source": [
    "# sintaxis para modificaciones\n",
    "mi_lista[0] = \"nuevo valor\"\n",
    "mi_lista.append(\"elemento\") #anhadir elemento\n",
    ".pop() "
   ]
  },
  {
   "attachments": {},
   "cell_type": "markdown",
   "metadata": {},
   "source": [
    "# Solucion de Lucas 🩴"
   ]
  },
  {
   "cell_type": "code",
   "execution_count": 39,
   "metadata": {},
   "outputs": [
    {
     "name": "stdout",
     "output_type": "stream",
     "text": [
      "[1, 2, 3, 4, 5]\n",
      "[1, 2, 3, 4, 5, 6]\n",
      "[1, 8, 3, 4, 5, 6]\n",
      "[1, 8, 4, 5, 6]\n"
     ]
    }
   ],
   "source": [
    "lista = [1,2,3,4,5]\n",
    "print(lista)\n",
    "\n",
    "lista.append(6)\n",
    "print(lista)\n",
    "\n",
    "lista[1] = 8\n",
    "print(lista)\n",
    "\n",
    "lista.pop(2)\n",
    "print(lista)"
   ]
  },
  {
   "attachments": {},
   "cell_type": "markdown",
   "metadata": {},
   "source": [
    "# Solucion de Fede 👍🏼"
   ]
  },
  {
   "cell_type": "code",
   "execution_count": 41,
   "metadata": {},
   "outputs": [
    {
     "name": "stdout",
     "output_type": "stream",
     "text": [
      "['fuego', 'agua', 'viento', 'tierra', 'sangre', 'barro']\n",
      "['fuego', 'viento', 'tierra', 'sangre', 'barro']\n",
      "['fuego', 'paja', 'tierra', 'sangre', 'barro']\n",
      "['fuego', 'paja', 'sangre', 'barro']\n"
     ]
    }
   ],
   "source": [
    "lista_de_5_elementos = [\"fuego\", \"agua\", \"viento\", \"tierra\", \"sangre\"]\n",
    "\n",
    "lista_de_5_elementos.append(\"barro\")\n",
    "print(lista_de_5_elementos)\n",
    "\n",
    "lista_de_5_elementos.remove(\"agua\")\n",
    "print(lista_de_5_elementos)\n",
    "\n",
    "lista_de_5_elementos[1] = \"paja\"\n",
    "print(lista_de_5_elementos)\n",
    "\n",
    "lista_de_5_elementos.pop(2)\n",
    "print(lista_de_5_elementos)"
   ]
  },
  {
   "cell_type": "code",
   "execution_count": null,
   "metadata": {},
   "outputs": [],
   "source": [
    "# Crear una lista de 5 elementos\n",
    "lista = []\n"
   ]
  },
  {
   "attachments": {},
   "cell_type": "markdown",
   "metadata": {},
   "source": [
    "# Bucles iterativos"
   ]
  },
  {
   "cell_type": "code",
   "execution_count": 44,
   "metadata": {},
   "outputs": [
    {
     "name": "stdout",
     "output_type": "stream",
     "text": [
      "0\n",
      "1\n",
      "2\n",
      "3\n",
      "4\n"
     ]
    }
   ],
   "source": [
    "# Bucle iterativo for\n",
    "for iterador in range(5):\n",
    "    print(\"hola\")\n",
    "\n",
    "# El bucle in range nos da un rango de valores\n",
    "# donde el iterador toma los valores pertenecientes al rango\n",
    "for iterador in range(5):\n",
    "    print(iterador)"
   ]
  },
  {
   "cell_type": "code",
   "execution_count": 68,
   "metadata": {},
   "outputs": [
    {
     "name": "stdout",
     "output_type": "stream",
     "text": [
      "0\n",
      "1\n",
      "3\n",
      "6\n",
      "6\n"
     ]
    }
   ],
   "source": [
    "# Iniciamos un valor\n",
    "a = 0\n",
    "\n",
    "# iniciamos un bucle for\n",
    "for numero in range(4):\n",
    "    # sumamos el iterador a nuestro numero\n",
    "    a = a + numero\n",
    "    # imprimimos el valor nuevo\n",
    "    print(a)\n",
    "\n",
    "print(a)"
   ]
  },
  {
   "attachments": {},
   "cell_type": "markdown",
   "metadata": {},
   "source": [
    "### Challenge 🤺 - 20m\n",
    "\n",
    "Escribir un programa que itere en un rango de 10 veces. Por cada iteracion multiplicar el iterador por 2 e imprimir el resultado."
   ]
  },
  {
   "attachments": {},
   "cell_type": "markdown",
   "metadata": {},
   "source": [
    "# Solucion de Nati 😺"
   ]
  },
  {
   "cell_type": "code",
   "execution_count": 49,
   "metadata": {},
   "outputs": [
    {
     "name": "stdout",
     "output_type": "stream",
     "text": [
      "0\n",
      "2\n",
      "4\n",
      "6\n",
      "8\n",
      "10\n",
      "12\n",
      "14\n",
      "16\n",
      "18\n"
     ]
    }
   ],
   "source": [
    "# Escribir un programa que itere en un rango de 10 veces\n",
    "\n",
    "for a in range(10):\n",
    "\n",
    "# Por cada iteracion multiplicar el iterador por 2 e imprimir el resultado.\n",
    "    a = a * 2\n",
    "    print(a)"
   ]
  },
  {
   "attachments": {},
   "cell_type": "markdown",
   "metadata": {},
   "source": [
    "# Solucion de Allan 👻"
   ]
  },
  {
   "cell_type": "code",
   "execution_count": 50,
   "metadata": {},
   "outputs": [
    {
     "name": "stdout",
     "output_type": "stream",
     "text": [
      "0\n",
      "2\n",
      "4\n",
      "6\n",
      "8\n",
      "10\n",
      "12\n",
      "14\n",
      "16\n",
      "18\n"
     ]
    }
   ],
   "source": [
    "#Armamos el iterador de alcance 10\n",
    "for i in range(10):\n",
    "    #Elegimos una variable que haga la multiplicacion por 2\n",
    "    x = i*2\n",
    "    #Imprimimos esa variable\n",
    "    print(x)"
   ]
  },
  {
   "cell_type": "code",
   "execution_count": 52,
   "metadata": {},
   "outputs": [
    {
     "name": "stdout",
     "output_type": "stream",
     "text": [
      "2\n",
      "4\n",
      "6\n",
      "8\n",
      "10\n",
      "12\n",
      "14\n",
      "16\n",
      "18\n",
      "20\n"
     ]
    }
   ],
   "source": [
    "for iterador in range(10):\n",
    "    resultado = (iterador+1) * 2\n",
    "    print(resultado)"
   ]
  },
  {
   "cell_type": "code",
   "execution_count": 53,
   "metadata": {},
   "outputs": [
    {
     "name": "stdout",
     "output_type": "stream",
     "text": [
      "manzana\n",
      "banana\n",
      "pera\n"
     ]
    }
   ],
   "source": [
    "# La lista es un tipo de dato iterable\n",
    "\n",
    "lista_frutas = [\"manzana\", \"banana\", \"pera\"]\n",
    "\n",
    "# el iterador toma como valor cada elemento de la lista\n",
    "for iterador in lista_frutas:\n",
    "    print(iterador)"
   ]
  },
  {
   "cell_type": "code",
   "execution_count": 57,
   "metadata": {},
   "outputs": [
    {
     "name": "stdout",
     "output_type": "stream",
     "text": [
      "nike\n",
      "adidad\n",
      "puma\n",
      "rogue\n",
      "pony\n",
      "7\n"
     ]
    }
   ],
   "source": [
    "lista_marcas = [\"nike\", \"adidad\", \"puma\",\"rogue\", \"pony\"]\n",
    "\n",
    "for marca in lista_marcas:\n",
    "    print(marca)\n",
    "\n",
    "# La herramienta len() nos devuelve el largo del dato argumentado\n",
    "print(len(\"Martin\"))"
   ]
  },
  {
   "attachments": {},
   "cell_type": "markdown",
   "metadata": {},
   "source": [
    "### Challenge 🤺 - 20m\n",
    "\n",
    "Recorrer los elementos de una lista de marcas e imprimir cada marca *__solamente__* si tiene 6 letras o más.\n",
    "\n"
   ]
  },
  {
   "attachments": {},
   "cell_type": "markdown",
   "metadata": {},
   "source": [
    "# Solucion de Ariel 😼"
   ]
  },
  {
   "cell_type": "code",
   "execution_count": 58,
   "metadata": {},
   "outputs": [
    {
     "name": "stdout",
     "output_type": "stream",
     "text": [
      "adidas\n",
      "balenciaga\n",
      "jordan\n",
      "nautica\n"
     ]
    }
   ],
   "source": [
    "# Crear lista de marcas\n",
    "\n",
    "lista_marcas= [\"adidas\", \"balenciaga\", \"head\", \"puma\",\"jordan\", \"nautica\"]\n",
    "\n",
    "# Recorrer e imprimir cada marca solamente si tiene 6 letras o más\n",
    "\n",
    "for iterador in lista_marcas:\n",
    "    if len(iterador) >= 6:\n",
    "\n",
    "        print(iterador)"
   ]
  },
  {
   "attachments": {},
   "cell_type": "markdown",
   "metadata": {},
   "source": [
    "# Solucion de Joan 🏍️"
   ]
  },
  {
   "cell_type": "code",
   "execution_count": 59,
   "metadata": {},
   "outputs": [
    {
     "name": "stdout",
     "output_type": "stream",
     "text": [
      "google\n",
      "twitter\n",
      "instagram\n",
      "tiktok\n"
     ]
    }
   ],
   "source": [
    "lista_de_marcas = [\"google\", \"face\", \"twitter\", \"instagram\", \"tiktok\"] \n",
    "for marca in lista_de_marcas:\n",
    "    if len(marca) >= 6:\n",
    "        print(marca)"
   ]
  },
  {
   "cell_type": "code",
   "execution_count": 62,
   "metadata": {},
   "outputs": [
    {
     "name": "stdout",
     "output_type": "stream",
     "text": [
      "M\n",
      "a\n",
      "r\n",
      "t\n",
      "i\n",
      "n\n"
     ]
    }
   ],
   "source": [
    "# Los strings tambien son tipos de datos iterables\n",
    "nombre = \"Martin\"\n",
    "\n",
    "# el iterador toma como valor cada caracter del string\n",
    "for letra in nombre:\n",
    "    print(letra)"
   ]
  },
  {
   "attachments": {},
   "cell_type": "markdown",
   "metadata": {},
   "source": [
    "### Challenge 🤺 - 15m\n",
    "\n",
    "Solicitar al usuario que ingrese una frase.\n",
    "\n",
    "Imprimir un mensaje cada vez que se encuentre una letra \"o\"."
   ]
  },
  {
   "attachments": {},
   "cell_type": "markdown",
   "metadata": {},
   "source": [
    "# Solucion de Julio 🤟🏿"
   ]
  },
  {
   "cell_type": "code",
   "execution_count": 65,
   "metadata": {},
   "outputs": [
    {
     "name": "stdout",
     "output_type": "stream",
     "text": [
      "Te encontre 'o', en la frase 'hola mundo', felicitame\n",
      "Te encontre 'o', en la frase 'hola mundo', felicitame\n"
     ]
    }
   ],
   "source": [
    "#Solicitar al usuario que ingrese una frase.\n",
    "frase=input(\"Ingrese una frase cualquiera\")\n",
    "\n",
    "for letra in frase : #itera en la lista de letras que forma la frase\n",
    "    if letra ==\"o\":\n",
    "        print(f\"Te encontre 'o', en la frase '{frase}', felicitame\") #Imprime un mensaje cada vez que se encuentre la letra \"o\""
   ]
  },
  {
   "attachments": {},
   "cell_type": "markdown",
   "metadata": {},
   "source": [
    "# Solucion de Jeremias 🫴🏼"
   ]
  },
  {
   "cell_type": "code",
   "execution_count": 66,
   "metadata": {},
   "outputs": [
    {
     "name": "stdout",
     "output_type": "stream",
     "text": [
      "la letra o se encuentra en la frase\n"
     ]
    }
   ],
   "source": [
    "frase = (input(\"ingrese una frase\")) #solicitamos que el usuario ingrese una frase)\n",
    "\n",
    "for o in frase: #nombramos el iterador\n",
    "    if o == \"o\": #nombramos la letraa encontrar \n",
    "        print(f\"la letra {o} se encuentra en la frase\") #ordenamos al print a mostrar la frase cada de que vea una 0"
   ]
  },
  {
   "attachments": {},
   "cell_type": "markdown",
   "metadata": {},
   "source": [
    "# Solucion de Allan 😈"
   ]
  },
  {
   "cell_type": "code",
   "execution_count": 67,
   "metadata": {},
   "outputs": [
    {
     "name": "stdout",
     "output_type": "stream",
     "text": [
      "Encontre la o unas 3 veces en la frase: hola como estas.\n"
     ]
    }
   ],
   "source": [
    "a = 0\n",
    "frase = input(\"Ingrese una frase que le gustaria comprartir: \")\n",
    "for letra in frase:\n",
    "    if letra == \"o\":\n",
    "        a = a + 1\n",
    "if a != 0:\n",
    "    print(f\"Encontre la o unas {a} veces en la frase: {frase}.\")\n",
    "else:\n",
    "    print(\"La frase no contiene la letra O.\")"
   ]
  }
 ],
 "metadata": {
  "kernelspec": {
   "display_name": "Python 3",
   "language": "python",
   "name": "python3"
  },
  "language_info": {
   "codemirror_mode": {
    "name": "ipython",
    "version": 3
   },
   "file_extension": ".py",
   "mimetype": "text/x-python",
   "name": "python",
   "nbconvert_exporter": "python",
   "pygments_lexer": "ipython3",
   "version": "3.10.6"
  },
  "orig_nbformat": 4,
  "vscode": {
   "interpreter": {
    "hash": "b0fa6594d8f4cbf19f97940f81e996739fb7646882a419484c72d19e05852a7e"
   }
  }
 },
 "nbformat": 4,
 "nbformat_minor": 2
}

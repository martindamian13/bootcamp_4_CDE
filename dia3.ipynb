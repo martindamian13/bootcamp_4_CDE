{
 "cells": [
  {
   "attachments": {},
   "cell_type": "markdown",
   "metadata": {},
   "source": [
    "# Dia 3"
   ]
  },
  {
   "cell_type": "code",
   "execution_count": 2,
   "metadata": {},
   "outputs": [
    {
     "name": "stdout",
     "output_type": "stream",
     "text": [
      "coquito\n",
      "leche\n",
      "jamon\n"
     ]
    }
   ],
   "source": [
    "# Repaso for\n",
    "lista = [\"coquito\", \"leche\", \"jamon\"]\n",
    "\n",
    "for productos in lista:\n",
    "    print(productos)\n"
   ]
  },
  {
   "cell_type": "code",
   "execution_count": 4,
   "metadata": {},
   "outputs": [
    {
     "name": "stdout",
     "output_type": "stream",
     "text": [
      "hola\n"
     ]
    }
   ],
   "source": [
    "# imprimir hola 3 veces\n",
    "# for i in range(3):\n",
    "#     print(\"hola\")\n",
    "\n",
    "contador = 0\n",
    "while contador < 3:\n",
    "    print(\"hola\")\n",
    "    contador += 1\n"
   ]
  },
  {
   "cell_type": "code",
   "execution_count": 7,
   "metadata": {},
   "outputs": [
    {
     "name": "stdout",
     "output_type": "stream",
     "text": [
      "True\n"
     ]
    }
   ],
   "source": [
    "letra = \"a\"\n",
    "palabra = \"Martinaa\"\n",
    "\n",
    "print(letra in palabra)"
   ]
  },
  {
   "cell_type": "code",
   "execution_count": 10,
   "metadata": {},
   "outputs": [
    {
     "name": "stdout",
     "output_type": "stream",
     "text": [
      "2\n",
      "2\n",
      "6\n"
     ]
    }
   ],
   "source": [
    "def restar_numeros(num1, num2):\n",
    "    res = num1 - num2\n",
    "    print(res)\n",
    "\n",
    "restar_numeros(4, 2)\n",
    "restar_numeros(5,3)\n",
    "restar_numeros(8,2)"
   ]
  },
  {
   "attachments": {},
   "cell_type": "markdown",
   "metadata": {},
   "source": [
    "## Challenge 2 🤺 - 15 min\n",
    "Crear una función que reciba dos letras (parámetros) y que verifique si son iguales:\n",
    "\n",
    "1. Si son iguales, imprimir \"Las letras son iguales\".\n",
    "\n",
    "2. De lo contrario, imprimir \"Las letras son diferentes\"."
   ]
  },
  {
   "attachments": {},
   "cell_type": "markdown",
   "metadata": {},
   "source": [
    "# Solucion de Jeremias 😎"
   ]
  },
  {
   "cell_type": "code",
   "execution_count": 11,
   "metadata": {},
   "outputs": [
    {
     "name": "stdout",
     "output_type": "stream",
     "text": [
      "las letras son iguales\n",
      "las letras son diferente\n"
     ]
    }
   ],
   "source": [
    "def palabra(letra1, letra2):              #creamos la funcion recibiendo los dos parametros \n",
    "    if letra1 == letra2:                  #creamos una condicion para diferenciar o en este caso ver si son iguales\n",
    "        print(\"las letras son iguales\")   # ordenamos que imprima nuestra orden en caso de ser iguales\n",
    "    else:                                 # esto ordena que en otro caso \n",
    "        print(\"las letras son diferente\") #imprime en caso de ser diferente\n",
    "palabra(\"a\", \"a\")                         #llamamos nuestra funcion y acordamos los parametros \n",
    "palabra(\"a\", \"b\")"
   ]
  },
  {
   "attachments": {},
   "cell_type": "markdown",
   "metadata": {},
   "source": [
    "# Solucion de Angel 🤩"
   ]
  },
  {
   "cell_type": "code",
   "execution_count": 12,
   "metadata": {},
   "outputs": [
    {
     "name": "stdout",
     "output_type": "stream",
     "text": [
      "Las letras son iguales\n",
      "Las letras son diferentes\n"
     ]
    }
   ],
   "source": [
    "def letras(letra1, letra2):\n",
    "    if letra1 == letra2:\n",
    "        print(\"Las letras son iguales\")\n",
    "    else:\n",
    "        print(\"Las letras son diferentes\")\n",
    "\n",
    "\n",
    "letras(\"a\",\"a\")\n",
    "letras(\"a\",\"b\")"
   ]
  },
  {
   "attachments": {},
   "cell_type": "markdown",
   "metadata": {},
   "source": [
    "# Return"
   ]
  },
  {
   "cell_type": "code",
   "execution_count": 13,
   "metadata": {},
   "outputs": [
    {
     "name": "stdout",
     "output_type": "stream",
     "text": [
      "Las letras son diferentes\n"
     ]
    }
   ],
   "source": [
    "def verificar(letra1, letra2):\n",
    "    if letra1 == letra2:\n",
    "        print(\"Las letras son iguales\")\n",
    "    else:\n",
    "        print(\"Las letras son diferentes\")\n",
    "\n",
    "verificar('a', 'b')"
   ]
  },
  {
   "cell_type": "code",
   "execution_count": 22,
   "metadata": {},
   "outputs": [
    {
     "name": "stdout",
     "output_type": "stream",
     "text": [
      "9\n"
     ]
    }
   ],
   "source": [
    "def sumar(num1, num2):\n",
    "    resultado = num1 + num2\n",
    "    return resultado\n",
    " \n",
    "print(sumar(4,5))"
   ]
  },
  {
   "cell_type": "code",
   "execution_count": 36,
   "metadata": {},
   "outputs": [
    {
     "name": "stdout",
     "output_type": "stream",
     "text": [
      "True\n",
      "False\n"
     ]
    },
    {
     "data": {
      "text/plain": [
       "True"
      ]
     },
     "execution_count": 36,
     "metadata": {},
     "output_type": "execute_result"
    }
   ],
   "source": [
    "def verificar(letra1, letra2):\n",
    "    if letra1 == letra2:\n",
    "        return True\n",
    "    else:\n",
    "        return False\n",
    "\n",
    "print(verificar('a','a'))\n",
    "print(verificar('a','b'))\n",
    "verificar('a','c')\n",
    "verificar('a','a')"
   ]
  },
  {
   "attachments": {},
   "cell_type": "markdown",
   "metadata": {},
   "source": [
    "## Challenge 3 🤺 - 15m\n",
    "\n",
    "Crear una función que reciba dos parámetros (una palabra y un número), y que devuelva `True` si el número es igual a la cantidad de letras de la palabra. En caso contrario, que devuelva `False`.\n",
    "\n",
    "Pista: `cantidad de letras de una palabra en python`\n",
    "\n",
    "len()"
   ]
  },
  {
   "attachments": {},
   "cell_type": "markdown",
   "metadata": {},
   "source": [
    "# Solucion de David 😺"
   ]
  },
  {
   "cell_type": "code",
   "execution_count": 26,
   "metadata": {},
   "outputs": [
    {
     "name": "stdout",
     "output_type": "stream",
     "text": [
      "\n",
      "\tCantidad de letras de una palabra en Python\n",
      "martin\n",
      "5\n"
     ]
    },
    {
     "data": {
      "text/plain": [
       "False"
      ]
     },
     "execution_count": 26,
     "metadata": {},
     "output_type": "execute_result"
    }
   ],
   "source": [
    "print(\"\\n\\tCantidad de letras de una palabra en Python\") # Titulo del challenger.\n",
    "\n",
    "def parametro (palabra, numero):                         # Creamos una funcion y la denominamos parametro.\n",
    "    if len(palabra) == numero:                           # Condicionamos que los lea el parametro palabra y nos cuente la cantidad de caracteres.\n",
    "        return True                                      # En caso de que la cantidad de caracteres sea igual a la de numero ingresado retornar VERDADERO.\n",
    "    else:                                                # Por otro lado una condicional Si no.\n",
    "        return False                                     # Donde la condicional ELSE nos devuelva FALSO si la comparativa anterior no se cumpliese.\n",
    "\n",
    "\n",
    "palabra=input(\"Ingrese una palabra\")                     # Creamos una variable don pidamos al usuario ingresar un primer parametro.\n",
    "print(palabra)                                           # Mostrar al usuario el parametro ingresado\n",
    "numero=int(input(\"Ingrese un numero entero\"))            # Pedimos un segundo parametro para asi poder comparar.\n",
    "print(numero)                                            # Imprimimos al usuario el segundo parametro.\n",
    "\n",
    "parametro (palabra, numero)                              # Llamamos a la funcion a ejecutar."
   ]
  },
  {
   "attachments": {},
   "cell_type": "markdown",
   "metadata": {},
   "source": [
    "# Solucion de Ariel 🤯"
   ]
  },
  {
   "cell_type": "code",
   "execution_count": 28,
   "metadata": {},
   "outputs": [
    {
     "data": {
      "text/plain": [
       "False"
      ]
     },
     "execution_count": 28,
     "metadata": {},
     "output_type": "execute_result"
    }
   ],
   "source": [
    "# Crear una funcion que reciba una palabra y un numero\n",
    "def encontrar_similitud (palabra, numero):\n",
    "    palabra = input(\"escribir palabra\")\n",
    "    numero = int(input(\"escribir numero\"))\n",
    "    if len(palabra) == numero:\n",
    "        return True         # Devolver true si ambas son iguales\n",
    "    else:\n",
    "        return False        # Devolver false en caso contrario\n",
    "\n",
    "encontrar_similitud (\"palabra\", \"numero\")"
   ]
  },
  {
   "cell_type": "code",
   "execution_count": 34,
   "metadata": {},
   "outputs": [
    {
     "name": "stdout",
     "output_type": "stream",
     "text": [
      "False\n"
     ]
    }
   ],
   "source": [
    "def encontrar_similitud (palabra, numero):\n",
    "    if len(palabra) == numero:\n",
    "        return True         # Devolver true si ambas son iguales\n",
    "    else:\n",
    "        return False        # Devolver false en caso contrario\n",
    "\n",
    "palabra = input(\"escribir palabra\")\n",
    "numero = int(input(\"escribir numero\"))\n",
    "print(encontrar_similitud (palabra, numero))"
   ]
  },
  {
   "attachments": {},
   "cell_type": "markdown",
   "metadata": {},
   "source": [
    "# list()"
   ]
  },
  {
   "cell_type": "code",
   "execution_count": 38,
   "metadata": {},
   "outputs": [
    {
     "name": "stdout",
     "output_type": "stream",
     "text": [
      "['m', 'a', 'r', 't', 'i', 'n', 'a']\n"
     ]
    }
   ],
   "source": [
    "nombre = 'martin'\n",
    "\n",
    "lista = list(nombre)\n",
    "\n",
    "lista.append('a')\n",
    "\n",
    "print(lista)\n",
    "\n"
   ]
  },
  {
   "attachments": {},
   "cell_type": "markdown",
   "metadata": {},
   "source": [
    "## Challenge 5 🤺 - 20m\n",
    "\n",
    "Pedir al usuario que ingrese 1 palabra, luego convertir esa palabra a una lista con sus caracteres con `list()`. Agregar esa lista de caracteres a una lista llamada `palabras_ingresadas`. Repetir el proceso 3 veces. Cada vez que se agregue una lista de caracteres, imprimir la lista `palabras_ingresadas`.\n",
    "\n",
    "\n",
    "Ejemplo del resultado esperado:\n",
    "\n",
    "```[['c', 'i', 'e', 'l', 'o']]``` # Al ingresar la primera palabra\n",
    "\n",
    "```[['c', 'i', 'e', 'l', 'o'], ['c', 'a', 'l', 'o', 'r']]``` # Al ingresar la segunda palabra\n",
    "\n",
    "```[['c', 'i', 'e', 'l', 'o'], ['c', 'a', 'l', 'o', 'r'], ['n', 'u', 'b', 'e', 's']]``` # Al ingresar la tercera palabra"
   ]
  },
  {
   "attachments": {},
   "cell_type": "markdown",
   "metadata": {},
   "source": [
    "# Solucion de Fede 💤"
   ]
  },
  {
   "cell_type": "code",
   "execution_count": 41,
   "metadata": {},
   "outputs": [
    {
     "name": "stdout",
     "output_type": "stream",
     "text": [
      "[]\n",
      "[['c', 'i', 'e', 'l', 'o']]\n",
      "[['c', 'i', 'e', 'l', 'o'], ['c', 'a', 'l', 'o', 'r']]\n",
      "[['c', 'i', 'e', 'l', 'o'], ['c', 'a', 'l', 'o', 'r'], ['n', 'u', 'b', 'e', 's']]\n"
     ]
    }
   ],
   "source": [
    "#primero cree una variable ,luego creo listas vacias en donde al final iran mis palabras .\n",
    "palabra_ingresadas =[]\n",
    "\n",
    "print (palabra_ingresadas)#ingresamos con for para que itere 3 veces.\n",
    "for iterador in range(3):#le ordeno que repita 3 veces \n",
    "    palabra_usuario=input('favor ingresar 1 palabra')#pedimos al usuario que ingrese las palabras seleccionadas.\n",
    "    palabra_listada= list(palabra_usuario)#le agrego list para que sean listadas mis palabras .\n",
    "    palabra_ingresadas.append(palabra_listada)#el append le agregue para que agregue mas elementos .\n",
    "    print(palabra_ingresadas)#le doy print para que imprima e ingreso las palabras ."
   ]
  },
  {
   "attachments": {},
   "cell_type": "markdown",
   "metadata": {},
   "source": [
    "# Solucion de Allan 🍌"
   ]
  },
  {
   "cell_type": "code",
   "execution_count": 40,
   "metadata": {},
   "outputs": [
    {
     "name": "stdout",
     "output_type": "stream",
     "text": [
      "[['c', 'i', 'e', 'l', 'o']]\n",
      "[['c', 'i', 'e', 'l', 'o'], ['c', 'a', 'l', 'o', 'r']]\n",
      "[['c', 'i', 'e', 'l', 'o'], ['c', 'a', 'l', 'o', 'r'], ['n', 'u', 'b', 'e', 's']]\n"
     ]
    }
   ],
   "source": [
    "#Creamos una lista vacia y un contador\n",
    "palabras_ingresadas = []\n",
    "a = 0\n",
    "#Crear un bucle con el contador con la condicion de que este sea menor que 3 porque son 3 palabras\n",
    "#las que ingresaremos\n",
    "while a < 3:\n",
    "#Pedimos que el usuario meta una palabra\n",
    "    palabra = input(\"Por favor ingrese una palabra: \")\n",
    "#Convertimos esa palabra en una lista\n",
    "    lista = list(palabra)\n",
    "#Agregamos esa lista a la lista palabras_ingresadas\n",
    "    palabras_ingresadas.append (lista)\n",
    "#Imprimimos la lista palabras_ingresadas\n",
    "    print(palabras_ingresadas)\n",
    "#Sumamos 1 al contador para que pueda finalizar el bucle al llegar a 3\n",
    "    a += 1"
   ]
  },
  {
   "cell_type": "markdown",
   "metadata": {},
   "source": []
  },
  {
   "cell_type": "code",
   "execution_count": 44,
   "metadata": {},
   "outputs": [
    {
     "name": "stdout",
     "output_type": "stream",
     "text": [
      "[['c', 'i', 'e', 'l', 'o']]\n",
      "[['c', 'i', 'e', 'l', 'o'], ['c', 'a', 'l', 'o', 'r']]\n"
     ]
    }
   ],
   "source": [
    "# sin bucles \n",
    "ingreso = input(\"ingresa palabra\")\n",
    "lista = list(ingreso)\n",
    "palabra_ingresada = [lista]\n",
    "print(palabra_ingresada)\n",
    "ingreso = input(\"ingresa palabra\")\n",
    "lista = list(ingreso)\n",
    "palabra_ingresada.append(lista)\n",
    "print(palabra_ingresada)"
   ]
  },
  {
   "attachments": {},
   "cell_type": "markdown",
   "metadata": {},
   "source": [
    "## Challenge 6 🤺 - 20m\n",
    "\n",
    "Dada la lista de ejemplo: \n",
    "\n",
    "lista = [['h', 'o', 'l', 'i', 's'], ['h', 'e', 'l', 'l', 'o'], ['h', 'a', 'l', 'l', 'o']]\n",
    "\n",
    "Crear una función que imprima una grilla (lista de listas), una línea por cada lista dentro de la lista principal.\n",
    "\n",
    "Ejemplo del resultado esperado:\n",
    "\n",
    "```\n",
    "['h', 'o', 'l', 'i', 's']\n",
    "['h', 'e', 'l', 'l', 'o']\n",
    "['h', 'a', 'l', 'l', 'o']\n",
    "```"
   ]
  },
  {
   "attachments": {},
   "cell_type": "markdown",
   "metadata": {},
   "source": [
    "# Solucion de Sergio 🐉"
   ]
  },
  {
   "cell_type": "code",
   "execution_count": 45,
   "metadata": {},
   "outputs": [
    {
     "name": "stdout",
     "output_type": "stream",
     "text": [
      "['h', 'o', 'l', 'i', 's']\n",
      "['h', 'e', 'l', 'l', 'o']\n",
      "['h', 'a', 'l', 'l', 'o']\n",
      "\n",
      "\n",
      "['h', 'o', 'l', 'i', 's']\n",
      "['h', 'e', 'l', 'l', 'o']\n",
      "['h', 'a', 'l', 'l', 'o']\n"
     ]
    }
   ],
   "source": [
    "lista = [['h', 'o', 'l', 'i', 's'], ['h', 'e', 'l', 'l', 'o'], ['h', 'a', 'l', 'l', 'o']]\n",
    "def imprimir_lista():\n",
    "    for a in lista:\n",
    "\n",
    "        print(a)\n",
    "\n",
    "    print (\"\\n\")\n",
    "\n",
    "    for b in range (len(lista)):\n",
    "\n",
    "        print (lista[b])\n",
    "\n",
    "\n",
    "\n",
    "imprimir_lista()"
   ]
  },
  {
   "attachments": {},
   "cell_type": "markdown",
   "metadata": {},
   "source": [
    "# Solucion de Giovanne ⚡️"
   ]
  },
  {
   "cell_type": "code",
   "execution_count": 53,
   "metadata": {},
   "outputs": [
    {
     "name": "stdout",
     "output_type": "stream",
     "text": [
      "['h', 'o', 'l', 'i', 's']\n",
      "['h', 'e', 'l', 'l', 'o']\n"
     ]
    }
   ],
   "source": [
    "listas = [['h', 'o', 'l', 'i', 's'], ['h', 'e', 'l', 'l', 'o']] # Definir una lista con 3 palabras\n",
    "\n",
    "def imprimir_grilla(lista):    \n",
    "    for iterador in lista:\n",
    "        print(iterador)\n",
    "\n",
    "imprimir_grilla(listas)"
   ]
  },
  {
   "cell_type": "code",
   "execution_count": 48,
   "metadata": {},
   "outputs": [
    {
     "name": "stdout",
     "output_type": "stream",
     "text": [
      "['h', 'o', 'l', 'i', 's']\n",
      "['h', 'e', 'l', 'l', 'o']\n",
      "['h', 'a', 'l', 'l', 'o']\n"
     ]
    }
   ],
   "source": [
    "for b in range(len(lista)):\n",
    "    print(lista[b])\n",
    "\n",
    "for a in lista:\n",
    "    print(a)\n"
   ]
  },
  {
   "cell_type": "code",
   "execution_count": 55,
   "metadata": {},
   "outputs": [
    {
     "name": "stdout",
     "output_type": "stream",
     "text": [
      "['h', 'o', 'l', 'i', 's']\n",
      "['h', 'e', 'l', 'l', 'o']\n"
     ]
    }
   ],
   "source": [
    "listas = [['h', 'o', 'l', 'i', 's'], ['h', 'e', 'l', 'l', 'o']]\n",
    "\n",
    "print(listas[0])\n",
    "print(listas[1])\n"
   ]
  },
  {
   "attachments": {},
   "cell_type": "markdown",
   "metadata": {},
   "source": [
    "## Funcion verificadora\n",
    "Acercandonos un poco más a nuestro juego, vamos a ver cual es el proceso cada vez que se ingresa una palabra\n",
    "\n",
    "- Crear una lista vacía `letras_verificadas` para las letras de la palabra luego de ser verificada\n",
    "- Definir la cantidad de letras de la palabra a encontrar\n",
    "- Si las letras existen en la palabra a encontrar y sus posiciones coinciden: encerrar en corchetes `[]` y agregar al resultado\n",
    "- Si las letras existen en la palabra a encontrar pero sus posiciones no coinciden: encerrar en parentesis `()` y agregar al resultado\n",
    "- Si no se cumple ninguna de las anteriores, agregar la letra a la lista vacía sin modificaciones\n",
    "- Retornar el resultado"
   ]
  },
  {
   "cell_type": "code",
   "execution_count": 58,
   "metadata": {},
   "outputs": [
    {
     "name": "stdout",
     "output_type": "stream",
     "text": [
      "['[m]', '(r)', 'o', '[t]', 'i']\n"
     ]
    }
   ],
   "source": [
    "# Funcion\n",
    "def verificacion_palabra(palabra_secreta, palabra_ingresada):\n",
    "    # Creamos un lista de letras_verificadas\n",
    "    letras_verificadas = []\n",
    "    # Cantidad de letras de la palabra secreta\n",
    "    cantidad_letras = 5\n",
    "\n",
    "    # Recorremos la palabra de acuerdo a la posicion\n",
    "    for posicion in range(cantidad_letras):\n",
    "        \n",
    "        # Si la letra de la palabra ingresada esta en su lugar y es igual\n",
    "        if palabra_secreta[posicion] == palabra_ingresada[posicion]:\n",
    "            letras_verificadas.append(\"[\"+palabra_ingresada[posicion]+\"]\")\n",
    "\n",
    "        # Sino, si la letra existe pero no esta en su lugar\n",
    "        elif palabra_ingresada[posicion] in palabra_secreta:\n",
    "            letras_verificadas.append(\"(\"+palabra_ingresada[posicion]+\")\")\n",
    "\n",
    "        # Si no se cumple ninguna condicion\n",
    "        else:\n",
    "            letras_verificadas.append(palabra_ingresada[posicion])\n",
    "\n",
    "    return letras_verificadas\n",
    "\n",
    "print(verificacion_palabra(\"marte\", \"mroti\"))\n"
   ]
  },
  {
   "cell_type": "code",
   "execution_count": 60,
   "metadata": {},
   "outputs": [
    {
     "name": "stdout",
     "output_type": "stream",
     "text": [
      "te quedan 2 intentos\n",
      "hola\n",
      "te quedan 1 intentos\n",
      "que\n",
      "Te quedaste sin intentos\n"
     ]
    }
   ],
   "source": [
    "# Intentos con while \n",
    "\n",
    "intentos = 2\n",
    "\n",
    "while intentos > 0:\n",
    "    print(f\"te quedan {intentos} intentos\")\n",
    "    palabra = input('ingrese una palabra')\n",
    "    # logica \n",
    "    intentos = intentos - 1\n",
    "    print(palabra)\n",
    "print('Te quedaste sin intentos')"
   ]
  }
 ],
 "metadata": {
  "kernelspec": {
   "display_name": "Python 3",
   "language": "python",
   "name": "python3"
  },
  "language_info": {
   "codemirror_mode": {
    "name": "ipython",
    "version": 3
   },
   "file_extension": ".py",
   "mimetype": "text/x-python",
   "name": "python",
   "nbconvert_exporter": "python",
   "pygments_lexer": "ipython3",
   "version": "3.10.6"
  },
  "orig_nbformat": 4,
  "vscode": {
   "interpreter": {
    "hash": "b0fa6594d8f4cbf19f97940f81e996739fb7646882a419484c72d19e05852a7e"
   }
  }
 },
 "nbformat": 4,
 "nbformat_minor": 2
}

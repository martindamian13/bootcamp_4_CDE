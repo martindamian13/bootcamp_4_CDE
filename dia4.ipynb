{
 "cells": [
  {
   "attachments": {},
   "cell_type": "markdown",
   "metadata": {},
   "source": [
    "# Dia 4 \n",
    "\n",
    "## Diccionarios"
   ]
  },
  {
   "cell_type": "code",
   "execution_count": 20,
   "metadata": {},
   "outputs": [
    {
     "name": "stdout",
     "output_type": "stream",
     "text": [
      "Martin\n",
      "24\n",
      "{'nombre': 'Martin', 'apellido': 'Quintana', 'edad': 24, 'email': 'martin@penguin.com', 'direccion': 'Av. San jose'}\n",
      "{'nombre': 'Damian', 'apellido': 'Quintana', 'edad': 24, 'email': 'martin@penguin.com', 'direccion': 'Av. San jose'}\n",
      "{'nombre': 'Damian', 'apellido': 'Quintana', 'edad': 24, 'direccion': 'Av. San jose'}\n",
      "{'nombre': 'Damian', 'apellido': 'Quintana', 'edad': 24}\n",
      "Damian\n",
      "Quintana\n",
      "24\n"
     ]
    }
   ],
   "source": [
    "# diccionario = {key: value}\n",
    "mi_contacto = {\"nombre\":\"Martin\", \"apellido\": \"Quintana\", \"edad\": 24, \"email\": \"martin@penguin.com\"}\n",
    "\n",
    "# Acceder a datos de un diccionario\n",
    "print(mi_contacto[\"nombre\"])\n",
    "print(mi_contacto[\"edad\"])\n",
    "\n",
    "# Desplegar datos de un diccionario\n",
    "mi_contacto.keys()\n",
    "mi_contacto.values()\n",
    "mi_contacto.items()\n",
    "\n",
    "# Agregar datos a un diccionario\n",
    "mi_contacto[\"direccion\"] = \"Av. San jose\"\n",
    "print(mi_contacto)\n",
    "\n",
    "# Modificar datos de un diccionario\n",
    "mi_contacto[\"nombre\"] = \"Damian\"\n",
    "print(mi_contacto)\n",
    "\n",
    "# Eliminar datos del diccionario\n",
    "mi_contacto.pop(\"email\")\n",
    "print(mi_contacto)\n",
    "mi_contacto.popitem()\n",
    "print(mi_contacto)\n",
    "\n"
   ]
  },
  {
   "attachments": {},
   "cell_type": "markdown",
   "metadata": {},
   "source": [
    "## Challenge 1 🤺\n",
    "Escribir un programa que cree un diccionario vacío y lo vaya llenando con información sobre una persona (por ejemplo nombre, edad, sexo, teléfono, correo electrónico, etc.) que se le pida al usuario. Cada vez que se añada un nuevo dato debe imprimirse el contenido del diccionario."
   ]
  },
  {
   "attachments": {},
   "cell_type": "markdown",
   "metadata": {},
   "source": [
    "# Solucion de Joan 🤯"
   ]
  },
  {
   "cell_type": "code",
   "execution_count": 21,
   "metadata": {},
   "outputs": [
    {
     "name": "stdout",
     "output_type": "stream",
     "text": [
      "{'nombre': 'Joan'}\n",
      "{'nombre': 'Joan', 'Edad': '26'}\n",
      "{'nombre': 'Joan', 'Edad': '26', 'sexo': 'Masculino'}\n",
      "{'nombre': 'Joan', 'Edad': '26', 'sexo': 'Masculino', 'telefono': '0972456789'}\n",
      "{'nombre': 'Joan', 'Edad': '26', 'sexo': 'Masculino', 'telefono': '0972456789', 'correo electronico': 'victoria_340@gmail.com'}\n"
     ]
    }
   ],
   "source": [
    "# Diccionario\n",
    "mi_contacto =  {}\n",
    "mi_contacto[\"nombre\"] = input(\"ingrese el nombre\")\n",
    "print(mi_contacto)\n",
    "mi_contacto[\"Edad\"] = input(\"ingrese la edad\")\n",
    "print(mi_contacto)\n",
    "mi_contacto[\"sexo\"] = input(\"ingrese el sexo\")\n",
    "print(mi_contacto)\n",
    "mi_contacto[\"telefono\"] = input(\"ingrese el numero de telefono\")\n",
    "print(mi_contacto)\n",
    "mi_contacto[\"correo electronico\"] = \"victoria_340@gmail.com\"\n",
    "print(mi_contacto)"
   ]
  },
  {
   "attachments": {},
   "cell_type": "markdown",
   "metadata": {},
   "source": [
    "# Solucion de Ale ☕️"
   ]
  },
  {
   "cell_type": "code",
   "execution_count": 22,
   "metadata": {},
   "outputs": [
    {
     "name": "stdout",
     "output_type": "stream",
     "text": [
      "{'nombre': 'Ale'}\n",
      "{'nombre': 'Ale', 'edad': '27'}\n",
      "{'nombre': 'Ale', 'edad': '27', 'sexo': 'Masculino'}\n"
     ]
    }
   ],
   "source": [
    "contacto_usuario = {}\n",
    "clave1 = input(\"ingrese la clave\")\n",
    "valor1 = input(\"ingrese el valor\")\n",
    "contacto_usuario [clave1] = valor1\n",
    "print(contacto_usuario)\n",
    "\n",
    "clave2 = input(\"ingrese los datos\")\n",
    "valor2 = input(\"ingrese el valor\")\n",
    "contacto_usuario [clave2] = valor2\n",
    "print(contacto_usuario)\n",
    "\n",
    "clave3 = input(\"ingrese la clave\")\n",
    "valor3 = input(\"ingrese el valor\")\n",
    "contacto_usuario [clave3] = valor3\n",
    "print(contacto_usuario)"
   ]
  },
  {
   "cell_type": "code",
   "execution_count": 28,
   "metadata": {},
   "outputs": [
    {
     "name": "stdout",
     "output_type": "stream",
     "text": [
      "{'nombre': 'Martin'}\n",
      "{'nombre': 'Martin', '': ''}\n",
      "{'nombre': 'Martin', '': ''}\n",
      "{'nombre': 'Martin', '': ''}\n"
     ]
    }
   ],
   "source": [
    "# contacto_usuario = {}\n",
    "# clave1 = input(\"ingrese la clave\")\n",
    "# valor1 = input(\"ingrese el valor\")\n",
    "# contacto_usuario [clave1] = valor1\n",
    "# print(contacto_usuario)\n",
    "contacto_usuario = {}\n",
    "for i in range(4):\n",
    "    key = input(\"ingrese la clave\")\n",
    "    contacto_usuario [key] = input(\"ingrese el valor\")\n",
    "    print(contacto_usuario)"
   ]
  },
  {
   "cell_type": "code",
   "execution_count": 33,
   "metadata": {},
   "outputs": [
    {
     "name": "stdout",
     "output_type": "stream",
     "text": [
      "{'nombre': 'Martin'}\n",
      "{'nombre': 'Martin', 'apellido': 'Quintana'}\n"
     ]
    }
   ],
   "source": [
    "datos = {}\n",
    "\n",
    "desea_agregar = input(\"Desea agregar datos? S/N\")\n",
    "\n",
    "while desea_agregar != \"N\":\n",
    "    key = input(\"ingrese el campo\")\n",
    "    datos [key] = input(\"ingrese el dato\")\n",
    "    print(datos)\n",
    "    desea_agregar = input(\"Desea agregar datos? S/N\")"
   ]
  },
  {
   "attachments": {},
   "cell_type": "markdown",
   "metadata": {},
   "source": [
    "## Challenge 2 🤺\n",
    "\n",
    "Challenge 2 🤺\n",
    "Crear una tarjeta personal. El usuario (mediante input) puede elegir:\n",
    "\n",
    "1. Crear datos nuevos\n",
    "2. Modificar datos\n",
    "3. Eliminar datos"
   ]
  },
  {
   "cell_type": "code",
   "execution_count": 41,
   "metadata": {},
   "outputs": [
    {
     "name": "stdout",
     "output_type": "stream",
     "text": [
      "{'nombre': 'Martin', 'apellido': 'Quintana', 'direccion': 'area 4', 'sexo': 'm'}\n"
     ]
    }
   ],
   "source": [
    "tarjeta_personal = {\n",
    "    \"nombre\": \"Martin\",\n",
    "    \"apellido\": \"Quintana\",\n",
    "    \"direccion\": \"Av San JOse\"\n",
    "}\n",
    "\n",
    "while True:\n",
    "    opciones = int(input(\"Opcion 1: Crear. Opcion 2: Modificar. Opcion3 Eliminar\"))\n",
    "    if opciones ==  1:\n",
    "        key = input(\"ingrese el campo\")\n",
    "        tarjeta_personal[key] = input(\"ingrese el dato\")\n",
    "    elif opciones == 2:\n",
    "        key = input(\"ingrese el campo\")\n",
    "        if key in tarjeta_personal.keys():\n",
    "            tarjeta_personal[key] = input(\"ingrese el dato\")\n",
    "        else:\n",
    "            print(\"El campo ingresado no existe\")\n",
    "    elif opciones == 3:\n",
    "        key = input(\"Ingrese el campo que desea eliminar\")\n",
    "        tarjeta_personal.pop(key)\n",
    "    else:\n",
    "        break\n",
    "\n",
    "    print(tarjeta_personal)\n"
   ]
  },
  {
   "cell_type": "code",
   "execution_count": 44,
   "metadata": {},
   "outputs": [
    {
     "name": "stdout",
     "output_type": "stream",
     "text": [
      "hola que tal! \n"
     ]
    }
   ],
   "source": [
    "texto = input(\"Ingrese un mensaje\")\n",
    "\n",
    "print(texto.lower())"
   ]
  },
  {
   "attachments": {},
   "cell_type": "markdown",
   "metadata": {},
   "source": [
    "# Solucion de Lucas 😀"
   ]
  },
  {
   "cell_type": "code",
   "execution_count": 45,
   "metadata": {},
   "outputs": [
    {
     "name": "stdout",
     "output_type": "stream",
     "text": [
      "Cree su propia tarjeta personal: Los campos determinados son = \n",
      "nombre\n",
      "profesion\n",
      "telefono\n",
      "correo\n",
      "{'nombre': '', 'profesion': '', 'telefono': '09876543', 'correo': ''}\n",
      "{'nombre': '', 'profesion': '', 'telefono': '09876543', 'correo': '', 'email': 'hola@hola.com'}\n",
      "{'nombre': '', 'profesion': '', 'telefono': '09876543', 'email': 'hola@hola.com'}\n",
      "Gracias por cargar sus datos\n"
     ]
    }
   ],
   "source": [
    "personalcard = {\n",
    "    \"nombre\":\"\", \n",
    "    \"profesion\":\"\",\n",
    "    \"telefono\":\"\",\n",
    "    \"correo\":\"\"\n",
    "    }\n",
    "print(\"Cree su propia tarjeta personal: Los campos determinados son = \")\n",
    "print(\"nombre\")\n",
    "print(\"profesion\")\n",
    "print(\"telefono\")\n",
    "print(\"correo\")\n",
    "\n",
    "opciones = int(input(\"Ingrese la opcion que desea realizar = Si desea agregar nuevos datos ingrese la opcion '1', si desea modificar datos de los campos ya creados ingrese la opcion '2', si desea eliminar campos ingrese la opcion '3', para finalizar la carga de los datos ingrese la opcion '4'.\"))\n",
    "\n",
    "\n",
    "while opciones != 4:\n",
    "\n",
    "    if opciones == 1:\n",
    "        key = input(\"Ingrese nuevo dato para su tarjeta personal\")\n",
    "        personalcard[key] = input(\"Ingrese el valor asignado al dato agregado\")\n",
    "        print(personalcard)\n",
    "        opciones = int(input(\"Ingrese la opcion que desea realizar = Si desea agregar nuevos datos ingrese la opcion '1', si desea modificar datos de los campos ya creados ingrese la opcion '2', si desea eliminar campos ingrese la opcion '3', para finalizar la carga de los datos ingrese la opcion '4'.\"))\n",
    "    elif opciones == 2:\n",
    "        key = input(\"Ingrese el nombre del campo que desea modificar\")\n",
    "        personalcard[key] = input(\"Ingrese su el valor modificado\")\n",
    "        print(personalcard)\n",
    "        opciones = int(input(\"Ingrese la opcion que desea realizar = Si desea agregar nuevos datos ingrese la opcion '1', si desea modificar datos de los campos ya creados ingrese la opcion '2', si desea eliminar campos ingrese la opcion '3', para finalizar la carga de los datos ingrese la opcion '4'.\"))\n",
    "    elif opciones == 3:\n",
    "        elimkey = input(\"Ingrese el campo que desea eliminar\")\n",
    "        personalcard.pop(elimkey)\n",
    "        print(personalcard)\n",
    "        opciones = int(input(\"Ingrese la opcion que desea realizar = Si desea agregar nuevos datos ingrese la opcion '1', si desea modificar datos de los campos ya creados ingrese la opcion '2', si desea eliminar campos ingrese la opcion '3', para finalizar la carga de los datos ingrese la opcion '4'.\"))\n",
    "    else:\n",
    "        break\n",
    "print(\"Gracias por cargar sus datos\")"
   ]
  },
  {
   "cell_type": "code",
   "execution_count": 47,
   "metadata": {},
   "outputs": [
    {
     "name": "stdout",
     "output_type": "stream",
     "text": [
      "{'martin': {'nombre': 'Martin', 'apellido': 'Quintana', 'direccion': 'Av San JOse'}, 'damian': {'nombre': 'Martin', 'apellido': 'Quintana', 'direccion': 'Av San JOse'}}\n"
     ]
    }
   ],
   "source": []
  },
  {
   "attachments": {},
   "cell_type": "markdown",
   "metadata": {},
   "source": [
    "## Challenge 3 🤺\n",
    "Crear una agenda de contactos. El usuario puede elegir:\n",
    "\n",
    "1. Mostrar los contactos\n",
    "2. Crear contacto\n",
    "3. Modificar datos del contacto"
   ]
  },
  {
   "cell_type": "code",
   "execution_count": 48,
   "metadata": {},
   "outputs": [
    {
     "name": "stdout",
     "output_type": "stream",
     "text": [
      "{'Martin': {'nombre': 'Martin', 'apellido': 'QUintana', 'telefono': '0973229057'}}\n"
     ]
    }
   ],
   "source": [
    "contactos = {}\n",
    "\n",
    "contacto = {'nombre': 'Martin', 'apellido': 'QUintana', 'telefono': '0973229057'}\n",
    "\n",
    "contactos[contacto['nombre']] = contacto\n",
    "\n",
    "print(contactos)"
   ]
  },
  {
   "cell_type": "code",
   "execution_count": null,
   "metadata": {},
   "outputs": [],
   "source": [
    "tarjeta_personal = {\n",
    "    \"nombre\": \"Martin\",\n",
    "    \"apellido\": \"Quintana\",\n",
    "    \"direccion\": \"Av San JOse\"\n",
    "}\n",
    "\n",
    "while True:\n",
    "    opciones = int(input(\"Opcion 1: Crear. Opcion 2: Modificar. Opcion3 Eliminar\"))\n",
    "    if opciones ==  1:\n",
    "        key = input(\"ingrese el campo\")\n",
    "        tarjeta_personal[key] = input(\"ingrese el dato\")\n",
    "    elif opciones == 2:\n",
    "        key = input(\"ingrese el campo\")\n",
    "        if key in tarjeta_personal.keys():\n",
    "            tarjeta_personal[key] = input(\"ingrese el dato\")\n",
    "        else:\n",
    "            print(\"El campo ingresado no existe\")\n",
    "    elif opciones == 3:\n",
    "        key = input(\"Ingrese el campo que desea eliminar\")\n",
    "        tarjeta_personal.pop(key)\n",
    "    else:\n",
    "        break\n",
    "\n",
    "    print(tarjeta_personal)"
   ]
  },
  {
   "cell_type": "code",
   "execution_count": 54,
   "metadata": {},
   "outputs": [
    {
     "name": "stdout",
     "output_type": "stream",
     "text": [
      "hola mundo\n"
     ]
    }
   ],
   "source": [
    "# Crear una agenda de contactos. El usuario puede elegir:\n",
    "\n",
    "# 1. Mostrar los contactos\n",
    "# 2. Crear contacto\n",
    "# 3. Modificar datos del contacto\n",
    "\n",
    "def mostrar_contactos(contactos):\n",
    "    print(contactos)\n",
    "\n",
    "def crear_contacto(nombre, apellido, telefono):\n",
    "    contacto = {\n",
    "        'nombre': nombre,\n",
    "        'apellido': apellido,\n",
    "        'telefono': telefono\n",
    "    }\n",
    "    return contacto\n",
    "\n",
    "def modificar_contacto(contacto):\n",
    "    contacto['nombre'] = input('ingrese el nuevo nombre')\n",
    "    contacto['apellido'] = input('ingrese el nuevo apellido')\n",
    "    contacto['telefono'] = input('ingrese el nuevo telefono')\n",
    "\n",
    "    return contacto\n",
    "\n",
    "contactos = {\n",
    "    'martin': crear_contacto('martin', 'quintana', '0973229057'),\n",
    "    'damian': crear_contacto('damian', 'benitez', '0983456378')\n",
    "}\n",
    "\n",
    "while True:\n",
    "    opcion = input('1 es mostrar 2 es crear 3 es modificar')\n",
    "    if opcion == '1':\n",
    "        mostrar_contactos(contactos)\n",
    "    elif opcion == '2':\n",
    "        nombre = input('ingrese un nombre')\n",
    "        apellido = input('apellido')\n",
    "        telefono = input('telefono')\n",
    "        contactos[nombre] = crear_contacto(nombre, apellido, telefono)\n",
    "    elif opcion == '3':\n",
    "        llave = input('Ingrese el nombre del contacto que quiere modificar')\n",
    "        contactos[llave] = modificar_contacto(contactos[llave])\n",
    "    else:\n",
    "        break"
   ]
  },
  {
   "attachments": {},
   "cell_type": "markdown",
   "metadata": {},
   "source": [
    "# OOP - POO\n",
    "## Object Oriented Programming - Programacion Orientada a Objetos"
   ]
  },
  {
   "cell_type": "code",
   "execution_count": 63,
   "metadata": {},
   "outputs": [
    {
     "name": "stdout",
     "output_type": "stream",
     "text": [
      "Mi perro se llama Firulais y tiene 2 ojos.\n",
      "Michi\n",
      "2\n",
      "2\n"
     ]
    }
   ],
   "source": [
    "# Creamos una Clase\n",
    "class Mascota():\n",
    "    # Atributos de clase\n",
    "    ojos = 2\n",
    "\n",
    "    # Atributos de instancia\n",
    "    def __init__(self, nombre):\n",
    "        self.nombre = nombre\n",
    "\n",
    "\n",
    "mi_perro = Mascota(\"Firulais\")\n",
    "mi_gato = Mascota(\"Michi\")\n",
    "\n",
    "print(f\"Mi perro se llama {mi_perro.nombre} y tiene {mi_perro.ojos} ojos.\")\n",
    "print(mi_gato.nombre)\n",
    "\n",
    "print(mi_perro.ojos)\n",
    "print(mi_gato.ojos)\n",
    "\n"
   ]
  },
  {
   "attachments": {},
   "cell_type": "markdown",
   "metadata": {},
   "source": [
    "## Challenge 🤺\n",
    "\n",
    "Crear dos class de animales que tengan atributos de clase y de instancia.\n",
    "\n",
    "- Atributos de clase: `especie`.\n",
    "- Atributos de instancia: `nombre` & `color`.\n",
    "Luego, crear nuevos objetos a partir de las nuevas class. Imprimir el nombre y el color de los animales en una frase que diga: \"Me llamo `{nombre}` y soy un `{especie}` de color `{color}`\"."
   ]
  },
  {
   "attachments": {},
   "cell_type": "markdown",
   "metadata": {},
   "source": [
    "# Solucion de Ariel 🥸"
   ]
  },
  {
   "cell_type": "code",
   "execution_count": 65,
   "metadata": {},
   "outputs": [
    {
     "name": "stdout",
     "output_type": "stream",
     "text": [
      "Me llamo Bobo y soy un primate de color negro\n",
      "Me llamo Pancho y soy un ave de color verde\n"
     ]
    }
   ],
   "source": [
    "class Animales():\n",
    "    especie = \"primate\"\n",
    "    def __init__(self, nombre, color):\n",
    "        self.nombre = nombre\n",
    "        self.color = color\n",
    "\n",
    "gorila = Animales(\"Bobo\", \"negro\")\n",
    "print(f\"Me llamo {gorila.nombre} y soy un {gorila.especie} de color {gorila.color}\")\n",
    "\n",
    "class Aves ():\n",
    "    especie = \"ave\"\n",
    "    def __init__ (self, nombre, color):\n",
    "        self.nombre = nombre\n",
    "        self.color = color\n",
    "loro = Aves(\"Pancho\", \"verde\")\n",
    "print(f\"Me llamo {loro.nombre} y soy un {loro.especie} de color {loro.color}\")"
   ]
  },
  {
   "cell_type": "code",
   "execution_count": 66,
   "metadata": {},
   "outputs": [
    {
     "name": "stdout",
     "output_type": "stream",
     "text": [
      "Me llamo Bobo y soy un primate de color negro\n",
      "Me llamo Pancho y soy un ave de color verde\n"
     ]
    }
   ],
   "source": [
    "class Animales():\n",
    "    especie = \"primate\"\n",
    "    def __init__(self, nombre, color):\n",
    "        self.nombre = nombre\n",
    "        self.color = color\n",
    "class Aves ():\n",
    "    especie = \"ave\"\n",
    "    def __init__ (self, nombre, color):\n",
    "        self.nombre = nombre\n",
    "        self.color = color\n",
    "\n",
    "gorila = Animales(\"Bobo\", \"negro\")\n",
    "print(f\"Me llamo {gorila.nombre} y soy un {gorila.especie} de color {gorila.color}\")\n",
    "\n",
    "loro = Aves(\"Pancho\", \"verde\")\n",
    "print(f\"Me llamo {loro.nombre} y soy un {loro.especie} de color {loro.color}\")"
   ]
  },
  {
   "attachments": {},
   "cell_type": "markdown",
   "metadata": {},
   "source": [
    "## Metodos"
   ]
  },
  {
   "cell_type": "code",
   "execution_count": 73,
   "metadata": {},
   "outputs": [
    {
     "name": "stdout",
     "output_type": "stream",
     "text": [
      "Firulais\n",
      "Yo duermo 5 horas.\n"
     ]
    }
   ],
   "source": [
    "class Mascota():\n",
    "    ojos = 2\n",
    "\n",
    "    def __init__(self, nombre):\n",
    "        self.nombre = nombre\n",
    "\n",
    "    def caminar(self):\n",
    "        print(\"Estoy caminando\")\n",
    "\n",
    "    def dormir(self, horas):\n",
    "        print(f\"Yo duermo {horas} horas.\")\n",
    "\n",
    "perro = Mascota(\"Firulais\")\n",
    "print(perro.nombre)\n",
    "\n",
    "perro.dormir(5)"
   ]
  },
  {
   "attachments": {},
   "cell_type": "markdown",
   "metadata": {},
   "source": [
    "## Challenge 🤺\n",
    "Crear dos métodos por animal, que sea hablar y moverse.\n",
    "\n",
    "En el método hablar, imprimir: \"Cuando hablo, digo X\".\n",
    "En el método mover, imprimir: \"Cuando me muevo, hago X\".\n",
    "\n",
    "X debe ser algo específico de ese animal"
   ]
  },
  {
   "attachments": {},
   "cell_type": "markdown",
   "metadata": {},
   "source": [
    "# SOlucion de Angel 🥳"
   ]
  },
  {
   "cell_type": "code",
   "execution_count": 76,
   "metadata": {},
   "outputs": [
    {
     "name": "stdout",
     "output_type": "stream",
     "text": [
      "Me llamo Tiger y cuando hablo digo roawwwww\n",
      "Me llamo Tiger y cuando me muevo hago temblar la selva\n",
      "Me llamo Spider y cuando hablo digo zizzzzzzzz\n",
      "Me llamo Spider y cuando me muevo hago hilos\n"
     ]
    }
   ],
   "source": [
    "# Primer animal\n",
    "class Felino():\n",
    "    especie ='tigre'\n",
    "    patas = 4\n",
    "    ojos = 2\n",
    "\n",
    "    def __init__(self, nombre, color):\n",
    "        self.nombre = nombre\n",
    "        self.color = color\n",
    " \n",
    "#Dos métodos por animal\n",
    "    def hablar(self, hablar):\n",
    "        print(f\"Me llamo {self.nombre} y cuando hablo digo {hablar}\")\n",
    "\n",
    "    def mover(self, mover):\n",
    "        print(f\"Me llamo {self.nombre} y cuando me muevo {mover}\")\n",
    "\n",
    "# Segundo animal\n",
    "class Aracnido():\n",
    "    especie ='araña'\n",
    "    patas = 4\n",
    "    ojos = 2\n",
    "\n",
    "    def __init__(self, nombre, color):\n",
    "        self.nombre = nombre\n",
    "        self.color = color\n",
    "\n",
    "#Dos métodos por animal\n",
    "    def hablar(self, hablar):\n",
    "        print(f\"Me llamo {self.nombre} y cuando hablo digo {hablar}\")\n",
    "\n",
    "    def mover(self, mover):\n",
    "        print(f\"Me llamo {self.nombre} y cuando me muevo {mover}\")\n",
    "\n",
    "\n",
    "# Creación del animal específico\n",
    "tiger = Felino(\"Tiger\", \"amarillo con negro\")\n",
    "peter = Aracnido(\"Spider\", \"negro con blanco\")\n",
    "\n",
    "# Alimentación de los métodos\n",
    "tiger.hablar(\"roawwwww\")\n",
    "tiger.mover(\"hago temblar la selva\") \n",
    "\n",
    "peter.hablar(\"zizzzzzzzz\")\n",
    "peter.mover(\"hago hilos\")"
   ]
  },
  {
   "cell_type": "code",
   "execution_count": 77,
   "metadata": {},
   "outputs": [
    {
     "name": "stdout",
     "output_type": "stream",
     "text": [
      "aaaaaaaaaaa\n"
     ]
    }
   ],
   "source": [
    "class Personaje():\n",
    "    especie = 'Orco'\n",
    "\n",
    "    def gritar(self):\n",
    "        print(\"aaaaaaaaaaa\")\n",
    "\n",
    "orco = Personaje()\n",
    "\n",
    "orco.gritar()"
   ]
  },
  {
   "attachments": {},
   "cell_type": "markdown",
   "metadata": {},
   "source": [
    "# Herencia"
   ]
  },
  {
   "cell_type": "code",
   "execution_count": 92,
   "metadata": {},
   "outputs": [
    {
     "name": "stdout",
     "output_type": "stream",
     "text": [
      "2\n",
      "3\n",
      "corre\n"
     ]
    }
   ],
   "source": [
    "class Personaje():\n",
    "    ojos = 2\n",
    "    piernas = 2\n",
    "    brazos = 2\n",
    "\n",
    "    def caminar(self):\n",
    "        print(\"camina\")\n",
    "\n",
    "    def disparar(self):\n",
    "        print(\"pa pa pa\")\n",
    "\n",
    "class Terrorista(Personaje):\n",
    "    ak = True\n",
    "    brazos = 3\n",
    "\n",
    "    # metodo\n",
    "    def plantar_bomba(self):\n",
    "        print(\"plantar bomba\")\n",
    "\n",
    "    def caminar(self):\n",
    "        print('corre')\n",
    "\n",
    "class CT(Personaje):\n",
    "    m4a4 = True\n",
    "\n",
    "    def defusar_bomba(self):\n",
    "        print(\"defusar\")\n",
    "\n",
    "martin = Terrorista()\n",
    "ivana = CT()\n",
    "\n",
    "print(ivana.brazos)\n",
    "print(martin.brazos)\n",
    "martin.caminar()\n",
    "\n",
    "# martin.caminar()\n",
    "# martin.plantar_bomba()\n",
    "# ivana.disparar()\n",
    "# ivana.defusar_bomba()\n",
    "\n"
   ]
  },
  {
   "attachments": {},
   "cell_type": "markdown",
   "metadata": {},
   "source": [
    "## Challenge 🤺\n",
    "Definir una clase madre que herede a sus clases hijas dos atributos de instancia. Mostrar ambos atributos en pantalla desde los objetos de las clases hijas.\n",
    "\n",
    "Observación: Editar las clases hijas para que no se inicialicen."
   ]
  },
  {
   "cell_type": "code",
   "execution_count": 94,
   "metadata": {},
   "outputs": [
    {
     "name": "stdout",
     "output_type": "stream",
     "text": [
      "Castanho\n",
      "Carla\n"
     ]
    }
   ],
   "source": [
    "# Clase madre\n",
    "class Madre():\n",
    "    # metodo init\n",
    "    def __init__(self, nombre, color_pelo):\n",
    "        # dos atributos de instancia\n",
    "        self.nombre = nombre\n",
    "        self.color = color_pelo\n",
    "\n",
    "# Clase hija\n",
    "class Hija(Madre):\n",
    "    # atributos o metodos\n",
    "    ojos = 2\n",
    "\n",
    "# instanciar el objeto utilizar la clase hija\n",
    "carla = Hija(\"Carla\", \"Castanho\")\n",
    "\n",
    "# mostrar los atributos heredados.\n",
    "print(carla.color)\n",
    "print(carla.nombre)"
   ]
  }
 ],
 "metadata": {
  "kernelspec": {
   "display_name": "Python 3",
   "language": "python",
   "name": "python3"
  },
  "language_info": {
   "codemirror_mode": {
    "name": "ipython",
    "version": 3
   },
   "file_extension": ".py",
   "mimetype": "text/x-python",
   "name": "python",
   "nbconvert_exporter": "python",
   "pygments_lexer": "ipython3",
   "version": "3.10.6"
  },
  "orig_nbformat": 4,
  "vscode": {
   "interpreter": {
    "hash": "b0fa6594d8f4cbf19f97940f81e996739fb7646882a419484c72d19e05852a7e"
   }
  }
 },
 "nbformat": 4,
 "nbformat_minor": 2
}
